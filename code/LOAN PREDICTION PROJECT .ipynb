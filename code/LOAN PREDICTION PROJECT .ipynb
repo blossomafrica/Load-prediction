{
 "cells": [
  {
   "cell_type": "markdown",
   "metadata": {},
   "source": [
    "# THREE BROTHERS BANK LOAN APPRAISAL SYSTEM"
   ]
  },
  {
   "cell_type": "markdown",
   "metadata": {},
   "source": [
    "###  INTRODUCTION "
   ]
  },
  {
   "cell_type": "markdown",
   "metadata": {},
   "source": [
    "In the midst of stiff competiton amongst banks and financial istituions to make a return on capital for shareholders, granting of loan facilities is one major way they can achieve this objective. But if these loans are not paid on the terms agreed, it goes along way to erode the gains made by these institutions because of the provisions they have to make for their nonperforming loans and also cost associated with the recovery of delinquent loans.\n",
    "\n",
    "Therefore it has become very necessay for such institutions to do all the due deligence in their loan appraisal system to enusre that the loans they grant their customers will not only be paid back but will be paid back in time. This important, challenging and critical task is usually associated with delays and a high possibility of error on the part of the officers because of the manual nature of the process and also the possibility of an error in judgement by the officer in assessing the deafult risk level of customers.\n",
    "\n",
    "Loan appraisal is a critical and difficult task, if the banks or financial institutions are too strict, fewer loans get approved, which means there’s less interest income. But if they’re too lax, they end up approving loans that will end up going bad because of this most banks and financial institutions are employing the help of mechanized system to help in this process."
   ]
  },
  {
   "cell_type": "markdown",
   "metadata": {},
   "source": [
    "### PROBLEM STATEMENT"
   ]
  },
  {
   "cell_type": "markdown",
   "metadata": {},
   "source": [
    "There has been a sustained increase in share prices of Three Brothers Bank (TBB) as such it investor confidence has increased and therefore shareholders have increased their capital for the banks growth. To make the needed return on capital for investors, by TBB wants to increase the volume of loans they grant to customers and still ensure the strictness in the system.  "
   ]
  },
  {
   "cell_type": "markdown",
   "metadata": {},
   "source": [
    "###  OBJECTIVE "
   ]
  },
  {
   "cell_type": "markdown",
   "metadata": {},
   "source": [
    "Our objective is to create an automated loan appraisal system for TBB to help in speedily determing which customer should or should not be granted a loan in a very quick and reliable way. "
   ]
  },
  {
   "cell_type": "markdown",
   "metadata": {},
   "source": [
    "### OUTLINE \n",
    "\n",
    "1. Importation and Cleaning\n",
    "2. Data Preparation for Model Building\n",
    "3. Build and Select the best Model\n",
    "4. Make Predictions with Model \n",
    "\n"
   ]
  },
  {
   "cell_type": "markdown",
   "metadata": {},
   "source": [
    "### 1. IMPORTATION AND CLEANING "
   ]
  },
  {
   "cell_type": "markdown",
   "metadata": {},
   "source": [
    "#### IMPORTATION OF LIBRARIES "
   ]
  },
  {
   "cell_type": "code",
   "execution_count": 1,
   "metadata": {},
   "outputs": [],
   "source": [
    "import pandas as pd\n",
    "import numpy as np\n",
    "import os\n",
    "import matplotlib.pyplot as plt\n",
    "import seaborn as sns\n",
    "import statistics\n",
    "from sklearn.model_selection import train_test_split,GridSearchCV,cross_val_score\n",
    "from sklearn.preprocessing import LabelBinarizer,StandardScaler,OrdinalEncoder\n",
    "from sklearn.metrics import confusion_matrix\n",
    "from sklearn.metrics import roc_auc_score\n",
    "from sklearn.metrics import roc_curve\n",
    "from scipy.stats import boxcox\n",
    "from sklearn.linear_model import LogisticRegression,RidgeClassifier, PassiveAggressiveClassifier\n",
    "from sklearn import metrics\n",
    "from sklearn import preprocessing\n",
    "from sklearn.ensemble import RandomForestClassifier, GradientBoostingClassifier\n",
    "from imblearn.over_sampling import SMOTE\n",
    "from sklearn.impute import SimpleImputer\n",
    "from xgboost import plot_importance\n",
    "from matplotlib import pyplot\n",
    "from sklearn.naive_bayes import BernoulliNB\n",
    "from sklearn.neighbors import KNeighborsClassifier\n",
    "from sklearn.svm import LinearSVC\n",
    "from sklearn.tree import DecisionTreeClassifier\n",
    "from xgboost import XGBClassifier\n",
    "from keras.models import load_model\n",
    "import joblib\n",
    "from sklearn.metrics import accuracy_score\n",
    "import operator\n",
    "from keras.models import load_model\n",
    "\n",
    "%matplotlib inline\n",
    "\n",
    "import warnings\n",
    "warnings.filterwarnings('ignore')"
   ]
  },
  {
   "cell_type": "markdown",
   "metadata": {},
   "source": [
    "#### DATA IMPORTATION\n",
    "\n",
    "THE DATA WAS PROVIDED BY TBB AND IN ACCORDANCE WITH THE DATA PROTECTION ACT 2012 (Act 843), WE HAVE ENSURED THAT NO PART OF THIS DATA WILL BE TRANSFERED TO A THIRD PARTY NOR WE USED FOR  BUSINESS APART FROM WHAT IT WAS ORIGINALLY INTENDED FOR."
   ]
  },
  {
   "cell_type": "code",
   "execution_count": 2,
   "metadata": {},
   "outputs": [],
   "source": [
    "train_set = pd.read_csv(\"train_set.csv\", low_memory=False)\n",
    "test_set = pd.read_csv(\"test_set.csv\")"
   ]
  },
  {
   "cell_type": "markdown",
   "metadata": {},
   "source": [
    "#### DATA INSIGHT "
   ]
  },
  {
   "cell_type": "code",
   "execution_count": 3,
   "metadata": {
    "scrolled": true
   },
   "outputs": [
    {
     "name": "stdout",
     "output_type": "stream",
     "text": [
      "(111107, 19)\n",
      "(9, 19)\n"
     ]
    }
   ],
   "source": [
    "#Showing the instances (rows) and how many attributes (columns) the data contains \n",
    "print(train_set.shape) \n",
    "print(test_set.shape)\n"
   ]
  },
  {
   "cell_type": "code",
   "execution_count": 4,
   "metadata": {
    "scrolled": false
   },
   "outputs": [
    {
     "data": {
      "text/html": [
       "<div>\n",
       "<style scoped>\n",
       "    .dataframe tbody tr th:only-of-type {\n",
       "        vertical-align: middle;\n",
       "    }\n",
       "\n",
       "    .dataframe tbody tr th {\n",
       "        vertical-align: top;\n",
       "    }\n",
       "\n",
       "    .dataframe thead th {\n",
       "        text-align: right;\n",
       "    }\n",
       "</style>\n",
       "<table border=\"1\" class=\"dataframe\">\n",
       "  <thead>\n",
       "    <tr style=\"text-align: right;\">\n",
       "      <th></th>\n",
       "      <th>Loan ID</th>\n",
       "      <th>Customer ID</th>\n",
       "      <th>Loan Status</th>\n",
       "      <th>Current Loan Amount</th>\n",
       "      <th>Term</th>\n",
       "      <th>Credit Score</th>\n",
       "      <th>Years in current job</th>\n",
       "      <th>Home Ownership</th>\n",
       "      <th>Annual Income</th>\n",
       "      <th>Purpose</th>\n",
       "      <th>Monthly Debt</th>\n",
       "      <th>Years of Credit History</th>\n",
       "      <th>Months since last delinquent</th>\n",
       "      <th>Number of Open Accounts</th>\n",
       "      <th>Number of Credit Problems</th>\n",
       "      <th>Current Credit Balance</th>\n",
       "      <th>Maximum Open Credit</th>\n",
       "      <th>Bankruptcies</th>\n",
       "      <th>Tax Liens</th>\n",
       "    </tr>\n",
       "  </thead>\n",
       "  <tbody>\n",
       "    <tr>\n",
       "      <th>0</th>\n",
       "      <td>6cf51492-02a2-423e-b93d-676f05b9ad53</td>\n",
       "      <td>7c202b37-2add-44e8-9aea-d5b119aea935</td>\n",
       "      <td>Loan Refused</td>\n",
       "      <td>12232</td>\n",
       "      <td>Short Term</td>\n",
       "      <td>7280.0</td>\n",
       "      <td>&lt; 1 year</td>\n",
       "      <td>Rent</td>\n",
       "      <td>46643.0</td>\n",
       "      <td>Debt Consolidation</td>\n",
       "      <td>777.39</td>\n",
       "      <td>18.0</td>\n",
       "      <td>10.0</td>\n",
       "      <td>12</td>\n",
       "      <td>0</td>\n",
       "      <td>6762</td>\n",
       "      <td>7946</td>\n",
       "      <td>0.0</td>\n",
       "      <td>0.0</td>\n",
       "    </tr>\n",
       "    <tr>\n",
       "      <th>1</th>\n",
       "      <td>552e7ade-4292-4354-9ff9-c48031697d72</td>\n",
       "      <td>e7217b0a-07ac-47dd-b379-577b5a35b7c6</td>\n",
       "      <td>Loan Refused</td>\n",
       "      <td>25014</td>\n",
       "      <td>Long Term</td>\n",
       "      <td>7330.0</td>\n",
       "      <td>10+ years</td>\n",
       "      <td>Home Mortgage</td>\n",
       "      <td>81099.0</td>\n",
       "      <td>Debt Consolidation</td>\n",
       "      <td>892.09</td>\n",
       "      <td>26.7</td>\n",
       "      <td>NaN</td>\n",
       "      <td>14</td>\n",
       "      <td>0</td>\n",
       "      <td>35706</td>\n",
       "      <td>77961</td>\n",
       "      <td>0.0</td>\n",
       "      <td>0.0</td>\n",
       "    </tr>\n",
       "    <tr>\n",
       "      <th>2</th>\n",
       "      <td>9b5e32b3-8d76-4801-afc8-d729d5a2e6b9</td>\n",
       "      <td>0a62fc41-16c8-40b5-92ff-9e4b763ce714</td>\n",
       "      <td>Loan Refused</td>\n",
       "      <td>16117</td>\n",
       "      <td>Short Term</td>\n",
       "      <td>7240.0</td>\n",
       "      <td>9 years</td>\n",
       "      <td>Home Mortgage</td>\n",
       "      <td>60438.0</td>\n",
       "      <td>Home Improvements</td>\n",
       "      <td>1244.02</td>\n",
       "      <td>16.7</td>\n",
       "      <td>32.0</td>\n",
       "      <td>11</td>\n",
       "      <td>1</td>\n",
       "      <td>11275</td>\n",
       "      <td>14815</td>\n",
       "      <td>1.0</td>\n",
       "      <td>0.0</td>\n",
       "    </tr>\n",
       "    <tr>\n",
       "      <th>3</th>\n",
       "      <td>5419b7c7-ac11-4be2-a8a7-b131fb6d6dbe</td>\n",
       "      <td>30f36c59-5182-4482-8bbb-5b736849ae43</td>\n",
       "      <td>Loan Refused</td>\n",
       "      <td>11716</td>\n",
       "      <td>Short Term</td>\n",
       "      <td>7400.0</td>\n",
       "      <td>3 years</td>\n",
       "      <td>Rent</td>\n",
       "      <td>34171.0</td>\n",
       "      <td>Debt Consolidation</td>\n",
       "      <td>990.94</td>\n",
       "      <td>10.0</td>\n",
       "      <td>NaN</td>\n",
       "      <td>21</td>\n",
       "      <td>0</td>\n",
       "      <td>7009</td>\n",
       "      <td>43533</td>\n",
       "      <td>0.0</td>\n",
       "      <td>0.0</td>\n",
       "    </tr>\n",
       "    <tr>\n",
       "      <th>4</th>\n",
       "      <td>1450910f-9495-4fc9-afaf-9bdf4b9821df</td>\n",
       "      <td>70c26012-bba5-42c0-8dcb-75295ada31bb</td>\n",
       "      <td>Loan Refused</td>\n",
       "      <td>9789</td>\n",
       "      <td>Long Term</td>\n",
       "      <td>6860.0</td>\n",
       "      <td>10+ years</td>\n",
       "      <td>Home Mortgage</td>\n",
       "      <td>47003.0</td>\n",
       "      <td>Home Improvements</td>\n",
       "      <td>503.71</td>\n",
       "      <td>16.7</td>\n",
       "      <td>25.0</td>\n",
       "      <td>13</td>\n",
       "      <td>1</td>\n",
       "      <td>16913</td>\n",
       "      <td>19553</td>\n",
       "      <td>1.0</td>\n",
       "      <td>0.0</td>\n",
       "    </tr>\n",
       "  </tbody>\n",
       "</table>\n",
       "</div>"
      ],
      "text/plain": [
       "                                Loan ID                           Customer ID  \\\n",
       "0  6cf51492-02a2-423e-b93d-676f05b9ad53  7c202b37-2add-44e8-9aea-d5b119aea935   \n",
       "1  552e7ade-4292-4354-9ff9-c48031697d72  e7217b0a-07ac-47dd-b379-577b5a35b7c6   \n",
       "2  9b5e32b3-8d76-4801-afc8-d729d5a2e6b9  0a62fc41-16c8-40b5-92ff-9e4b763ce714   \n",
       "3  5419b7c7-ac11-4be2-a8a7-b131fb6d6dbe  30f36c59-5182-4482-8bbb-5b736849ae43   \n",
       "4  1450910f-9495-4fc9-afaf-9bdf4b9821df  70c26012-bba5-42c0-8dcb-75295ada31bb   \n",
       "\n",
       "    Loan Status  Current Loan Amount        Term  Credit Score  \\\n",
       "0  Loan Refused                12232  Short Term        7280.0   \n",
       "1  Loan Refused                25014   Long Term        7330.0   \n",
       "2  Loan Refused                16117  Short Term        7240.0   \n",
       "3  Loan Refused                11716  Short Term        7400.0   \n",
       "4  Loan Refused                 9789   Long Term        6860.0   \n",
       "\n",
       "  Years in current job Home Ownership  Annual Income             Purpose  \\\n",
       "0             < 1 year           Rent        46643.0  Debt Consolidation   \n",
       "1            10+ years  Home Mortgage        81099.0  Debt Consolidation   \n",
       "2              9 years  Home Mortgage        60438.0   Home Improvements   \n",
       "3              3 years           Rent        34171.0  Debt Consolidation   \n",
       "4            10+ years  Home Mortgage        47003.0   Home Improvements   \n",
       "\n",
       "   Monthly Debt  Years of Credit History  Months since last delinquent  \\\n",
       "0        777.39                     18.0                          10.0   \n",
       "1        892.09                     26.7                           NaN   \n",
       "2       1244.02                     16.7                          32.0   \n",
       "3        990.94                     10.0                           NaN   \n",
       "4        503.71                     16.7                          25.0   \n",
       "\n",
       "   Number of Open Accounts  Number of Credit Problems  Current Credit Balance  \\\n",
       "0                       12                          0                    6762   \n",
       "1                       14                          0                   35706   \n",
       "2                       11                          1                   11275   \n",
       "3                       21                          0                    7009   \n",
       "4                       13                          1                   16913   \n",
       "\n",
       "  Maximum Open Credit  Bankruptcies  Tax Liens  \n",
       "0                7946           0.0        0.0  \n",
       "1               77961           0.0        0.0  \n",
       "2               14815           1.0        0.0  \n",
       "3               43533           0.0        0.0  \n",
       "4               19553           1.0        0.0  "
      ]
     },
     "execution_count": 4,
     "metadata": {},
     "output_type": "execute_result"
    }
   ],
   "source": [
    "train_set.head()"
   ]
  },
  {
   "cell_type": "code",
   "execution_count": 5,
   "metadata": {},
   "outputs": [
    {
     "data": {
      "text/html": [
       "<div>\n",
       "<style scoped>\n",
       "    .dataframe tbody tr th:only-of-type {\n",
       "        vertical-align: middle;\n",
       "    }\n",
       "\n",
       "    .dataframe tbody tr th {\n",
       "        vertical-align: top;\n",
       "    }\n",
       "\n",
       "    .dataframe thead th {\n",
       "        text-align: right;\n",
       "    }\n",
       "</style>\n",
       "<table border=\"1\" class=\"dataframe\">\n",
       "  <thead>\n",
       "    <tr style=\"text-align: right;\">\n",
       "      <th></th>\n",
       "      <th>Loan ID</th>\n",
       "      <th>Customer ID</th>\n",
       "      <th>Loan Status</th>\n",
       "      <th>Current Loan Amount</th>\n",
       "      <th>Term</th>\n",
       "      <th>Credit Score</th>\n",
       "      <th>Years in current job</th>\n",
       "      <th>Home Ownership</th>\n",
       "      <th>Annual Income</th>\n",
       "      <th>Purpose</th>\n",
       "      <th>Monthly Debt</th>\n",
       "      <th>Years of Credit History</th>\n",
       "      <th>Months since last delinquent</th>\n",
       "      <th>Number of Open Accounts</th>\n",
       "      <th>Number of Credit Problems</th>\n",
       "      <th>Current Credit Balance</th>\n",
       "      <th>Maximum Open Credit</th>\n",
       "      <th>Bankruptcies</th>\n",
       "      <th>Tax Liens</th>\n",
       "    </tr>\n",
       "  </thead>\n",
       "  <tbody>\n",
       "    <tr>\n",
       "      <th>111102</th>\n",
       "      <td>503f01e2-c3c4-4b10-886e-f15de57b6f1a</td>\n",
       "      <td>27a17610-1d8c-48a7-b0db-2d81a4fa099a</td>\n",
       "      <td>Loan Given</td>\n",
       "      <td>15654</td>\n",
       "      <td>Long Term</td>\n",
       "      <td>686.0</td>\n",
       "      <td>10+ years</td>\n",
       "      <td>Rent</td>\n",
       "      <td>43050.0</td>\n",
       "      <td>Debt Consolidation</td>\n",
       "      <td>889.69</td>\n",
       "      <td>14.1</td>\n",
       "      <td>49.0</td>\n",
       "      <td>18</td>\n",
       "      <td>0</td>\n",
       "      <td>14730</td>\n",
       "      <td>29757</td>\n",
       "      <td>0.0</td>\n",
       "      <td>0.0</td>\n",
       "    </tr>\n",
       "    <tr>\n",
       "      <th>111103</th>\n",
       "      <td>8af53bc0-56a4-4801-a960-52a46a90b33f</td>\n",
       "      <td>c124ca71-f42a-47cc-8ec2-236f7e9868a5</td>\n",
       "      <td>Loan Given</td>\n",
       "      <td>15237</td>\n",
       "      <td>Short Term</td>\n",
       "      <td>706.0</td>\n",
       "      <td>10+ years</td>\n",
       "      <td>Home Mortgage</td>\n",
       "      <td>60948.0</td>\n",
       "      <td>Debt Consolidation</td>\n",
       "      <td>700.90</td>\n",
       "      <td>15.9</td>\n",
       "      <td>48.0</td>\n",
       "      <td>11</td>\n",
       "      <td>0</td>\n",
       "      <td>17733</td>\n",
       "      <td>23060</td>\n",
       "      <td>0.0</td>\n",
       "      <td>0.0</td>\n",
       "    </tr>\n",
       "    <tr>\n",
       "      <th>111104</th>\n",
       "      <td>96efd327-f965-42ae-8b2b-d2555205ce19</td>\n",
       "      <td>7d959a54-8eeb-4df6-b582-046f889e4cff</td>\n",
       "      <td>Loan Given</td>\n",
       "      <td>10413</td>\n",
       "      <td>Short Term</td>\n",
       "      <td>719.0</td>\n",
       "      <td>5 years</td>\n",
       "      <td>Home Mortgage</td>\n",
       "      <td>66945.0</td>\n",
       "      <td>Debt Consolidation</td>\n",
       "      <td>1210.59</td>\n",
       "      <td>8.7</td>\n",
       "      <td>NaN</td>\n",
       "      <td>11</td>\n",
       "      <td>0</td>\n",
       "      <td>5205</td>\n",
       "      <td>6348</td>\n",
       "      <td>0.0</td>\n",
       "      <td>0.0</td>\n",
       "    </tr>\n",
       "    <tr>\n",
       "      <th>111105</th>\n",
       "      <td>ec19166c-70c5-4d49-adb6-fb3fc15024a2</td>\n",
       "      <td>5723fbf2-1ce8-4752-8bee-1bebf339f278</td>\n",
       "      <td>Loan Given</td>\n",
       "      <td>34447</td>\n",
       "      <td>Short Term</td>\n",
       "      <td>626.0</td>\n",
       "      <td>10+ years</td>\n",
       "      <td>Home Mortgage</td>\n",
       "      <td>78736.0</td>\n",
       "      <td>Debt Consolidation</td>\n",
       "      <td>1476.30</td>\n",
       "      <td>30.4</td>\n",
       "      <td>9.0</td>\n",
       "      <td>12</td>\n",
       "      <td>0</td>\n",
       "      <td>32318</td>\n",
       "      <td>37580</td>\n",
       "      <td>0.0</td>\n",
       "      <td>0.0</td>\n",
       "    </tr>\n",
       "    <tr>\n",
       "      <th>111106</th>\n",
       "      <td>f83ae0e1-bd30-46c7-9f72-f4f9fe2f36ca</td>\n",
       "      <td>74187e35-39c2-4010-ae0d-8bcd0544189e</td>\n",
       "      <td>Loan Given</td>\n",
       "      <td>9209</td>\n",
       "      <td>Long Term</td>\n",
       "      <td>708.0</td>\n",
       "      <td>&lt; 1 year</td>\n",
       "      <td>Own Home</td>\n",
       "      <td>123454.0</td>\n",
       "      <td>Debt Consolidation</td>\n",
       "      <td>668.71</td>\n",
       "      <td>20.1</td>\n",
       "      <td>16.0</td>\n",
       "      <td>8</td>\n",
       "      <td>0</td>\n",
       "      <td>6835</td>\n",
       "      <td>9261</td>\n",
       "      <td>0.0</td>\n",
       "      <td>0.0</td>\n",
       "    </tr>\n",
       "  </tbody>\n",
       "</table>\n",
       "</div>"
      ],
      "text/plain": [
       "                                     Loan ID  \\\n",
       "111102  503f01e2-c3c4-4b10-886e-f15de57b6f1a   \n",
       "111103  8af53bc0-56a4-4801-a960-52a46a90b33f   \n",
       "111104  96efd327-f965-42ae-8b2b-d2555205ce19   \n",
       "111105  ec19166c-70c5-4d49-adb6-fb3fc15024a2   \n",
       "111106  f83ae0e1-bd30-46c7-9f72-f4f9fe2f36ca   \n",
       "\n",
       "                                 Customer ID Loan Status  Current Loan Amount  \\\n",
       "111102  27a17610-1d8c-48a7-b0db-2d81a4fa099a  Loan Given                15654   \n",
       "111103  c124ca71-f42a-47cc-8ec2-236f7e9868a5  Loan Given                15237   \n",
       "111104  7d959a54-8eeb-4df6-b582-046f889e4cff  Loan Given                10413   \n",
       "111105  5723fbf2-1ce8-4752-8bee-1bebf339f278  Loan Given                34447   \n",
       "111106  74187e35-39c2-4010-ae0d-8bcd0544189e  Loan Given                 9209   \n",
       "\n",
       "              Term  Credit Score Years in current job Home Ownership  \\\n",
       "111102   Long Term         686.0            10+ years           Rent   \n",
       "111103  Short Term         706.0            10+ years  Home Mortgage   \n",
       "111104  Short Term         719.0              5 years  Home Mortgage   \n",
       "111105  Short Term         626.0            10+ years  Home Mortgage   \n",
       "111106   Long Term         708.0             < 1 year       Own Home   \n",
       "\n",
       "        Annual Income             Purpose  Monthly Debt  \\\n",
       "111102        43050.0  Debt Consolidation        889.69   \n",
       "111103        60948.0  Debt Consolidation        700.90   \n",
       "111104        66945.0  Debt Consolidation       1210.59   \n",
       "111105        78736.0  Debt Consolidation       1476.30   \n",
       "111106       123454.0  Debt Consolidation        668.71   \n",
       "\n",
       "        Years of Credit History  Months since last delinquent  \\\n",
       "111102                     14.1                          49.0   \n",
       "111103                     15.9                          48.0   \n",
       "111104                      8.7                           NaN   \n",
       "111105                     30.4                           9.0   \n",
       "111106                     20.1                          16.0   \n",
       "\n",
       "        Number of Open Accounts  Number of Credit Problems  \\\n",
       "111102                       18                          0   \n",
       "111103                       11                          0   \n",
       "111104                       11                          0   \n",
       "111105                       12                          0   \n",
       "111106                        8                          0   \n",
       "\n",
       "        Current Credit Balance Maximum Open Credit  Bankruptcies  Tax Liens  \n",
       "111102                   14730               29757           0.0        0.0  \n",
       "111103                   17733               23060           0.0        0.0  \n",
       "111104                    5205                6348           0.0        0.0  \n",
       "111105                   32318               37580           0.0        0.0  \n",
       "111106                    6835                9261           0.0        0.0  "
      ]
     },
     "execution_count": 5,
     "metadata": {},
     "output_type": "execute_result"
    }
   ],
   "source": [
    "train_set.tail()"
   ]
  },
  {
   "cell_type": "code",
   "execution_count": 6,
   "metadata": {},
   "outputs": [
    {
     "data": {
      "text/html": [
       "<div>\n",
       "<style scoped>\n",
       "    .dataframe tbody tr th:only-of-type {\n",
       "        vertical-align: middle;\n",
       "    }\n",
       "\n",
       "    .dataframe tbody tr th {\n",
       "        vertical-align: top;\n",
       "    }\n",
       "\n",
       "    .dataframe thead th {\n",
       "        text-align: right;\n",
       "    }\n",
       "</style>\n",
       "<table border=\"1\" class=\"dataframe\">\n",
       "  <thead>\n",
       "    <tr style=\"text-align: right;\">\n",
       "      <th></th>\n",
       "      <th>Current Loan Amount</th>\n",
       "      <th>Credit Score</th>\n",
       "      <th>Annual Income</th>\n",
       "      <th>Monthly Debt</th>\n",
       "      <th>Years of Credit History</th>\n",
       "      <th>Months since last delinquent</th>\n",
       "      <th>Number of Open Accounts</th>\n",
       "      <th>Number of Credit Problems</th>\n",
       "      <th>Current Credit Balance</th>\n",
       "      <th>Bankruptcies</th>\n",
       "      <th>Tax Liens</th>\n",
       "    </tr>\n",
       "  </thead>\n",
       "  <tbody>\n",
       "    <tr>\n",
       "      <th>count</th>\n",
       "      <td>1.111070e+05</td>\n",
       "      <td>89769.000000</td>\n",
       "      <td>8.976900e+04</td>\n",
       "      <td>111107.000000</td>\n",
       "      <td>111107.000000</td>\n",
       "      <td>52104.000000</td>\n",
       "      <td>111107.000000</td>\n",
       "      <td>111107.000000</td>\n",
       "      <td>1.111070e+05</td>\n",
       "      <td>110879.00000</td>\n",
       "      <td>111096.000000</td>\n",
       "    </tr>\n",
       "    <tr>\n",
       "      <th>mean</th>\n",
       "      <td>1.147718e+07</td>\n",
       "      <td>1075.795029</td>\n",
       "      <td>7.248600e+04</td>\n",
       "      <td>971.970120</td>\n",
       "      <td>18.201003</td>\n",
       "      <td>34.902272</td>\n",
       "      <td>11.125105</td>\n",
       "      <td>0.168027</td>\n",
       "      <td>1.548314e+04</td>\n",
       "      <td>0.11766</td>\n",
       "      <td>0.029353</td>\n",
       "    </tr>\n",
       "    <tr>\n",
       "      <th>std</th>\n",
       "      <td>3.185508e+07</td>\n",
       "      <td>1474.133505</td>\n",
       "      <td>5.593094e+04</td>\n",
       "      <td>641.640829</td>\n",
       "      <td>7.014495</td>\n",
       "      <td>21.970696</td>\n",
       "      <td>5.010267</td>\n",
       "      <td>0.484212</td>\n",
       "      <td>1.982115e+04</td>\n",
       "      <td>0.35142</td>\n",
       "      <td>0.260575</td>\n",
       "    </tr>\n",
       "    <tr>\n",
       "      <th>min</th>\n",
       "      <td>4.910000e+02</td>\n",
       "      <td>585.000000</td>\n",
       "      <td>4.033000e+03</td>\n",
       "      <td>0.000000</td>\n",
       "      <td>3.600000</td>\n",
       "      <td>0.000000</td>\n",
       "      <td>0.000000</td>\n",
       "      <td>0.000000</td>\n",
       "      <td>0.000000e+00</td>\n",
       "      <td>0.00000</td>\n",
       "      <td>0.000000</td>\n",
       "    </tr>\n",
       "    <tr>\n",
       "      <th>25%</th>\n",
       "      <td>8.162000e+03</td>\n",
       "      <td>705.000000</td>\n",
       "      <td>4.468800e+04</td>\n",
       "      <td>537.755000</td>\n",
       "      <td>13.500000</td>\n",
       "      <td>16.000000</td>\n",
       "      <td>8.000000</td>\n",
       "      <td>0.000000</td>\n",
       "      <td>5.905000e+03</td>\n",
       "      <td>0.00000</td>\n",
       "      <td>0.000000</td>\n",
       "    </tr>\n",
       "    <tr>\n",
       "      <th>50%</th>\n",
       "      <td>1.418300e+04</td>\n",
       "      <td>724.000000</td>\n",
       "      <td>6.175200e+04</td>\n",
       "      <td>852.720000</td>\n",
       "      <td>16.900000</td>\n",
       "      <td>32.000000</td>\n",
       "      <td>10.000000</td>\n",
       "      <td>0.000000</td>\n",
       "      <td>1.102700e+04</td>\n",
       "      <td>0.00000</td>\n",
       "      <td>0.000000</td>\n",
       "    </tr>\n",
       "    <tr>\n",
       "      <th>75%</th>\n",
       "      <td>2.382200e+04</td>\n",
       "      <td>741.000000</td>\n",
       "      <td>8.688700e+04</td>\n",
       "      <td>1262.630000</td>\n",
       "      <td>21.700000</td>\n",
       "      <td>51.000000</td>\n",
       "      <td>14.000000</td>\n",
       "      <td>0.000000</td>\n",
       "      <td>1.933800e+04</td>\n",
       "      <td>0.00000</td>\n",
       "      <td>0.000000</td>\n",
       "    </tr>\n",
       "    <tr>\n",
       "      <th>max</th>\n",
       "      <td>1.000000e+08</td>\n",
       "      <td>7510.000000</td>\n",
       "      <td>8.713547e+06</td>\n",
       "      <td>22939.120000</td>\n",
       "      <td>70.500000</td>\n",
       "      <td>176.000000</td>\n",
       "      <td>76.000000</td>\n",
       "      <td>15.000000</td>\n",
       "      <td>1.730472e+06</td>\n",
       "      <td>7.00000</td>\n",
       "      <td>15.000000</td>\n",
       "    </tr>\n",
       "  </tbody>\n",
       "</table>\n",
       "</div>"
      ],
      "text/plain": [
       "       Current Loan Amount  Credit Score  Annual Income   Monthly Debt  \\\n",
       "count         1.111070e+05  89769.000000   8.976900e+04  111107.000000   \n",
       "mean          1.147718e+07   1075.795029   7.248600e+04     971.970120   \n",
       "std           3.185508e+07   1474.133505   5.593094e+04     641.640829   \n",
       "min           4.910000e+02    585.000000   4.033000e+03       0.000000   \n",
       "25%           8.162000e+03    705.000000   4.468800e+04     537.755000   \n",
       "50%           1.418300e+04    724.000000   6.175200e+04     852.720000   \n",
       "75%           2.382200e+04    741.000000   8.688700e+04    1262.630000   \n",
       "max           1.000000e+08   7510.000000   8.713547e+06   22939.120000   \n",
       "\n",
       "       Years of Credit History  Months since last delinquent  \\\n",
       "count            111107.000000                  52104.000000   \n",
       "mean                 18.201003                     34.902272   \n",
       "std                   7.014495                     21.970696   \n",
       "min                   3.600000                      0.000000   \n",
       "25%                  13.500000                     16.000000   \n",
       "50%                  16.900000                     32.000000   \n",
       "75%                  21.700000                     51.000000   \n",
       "max                  70.500000                    176.000000   \n",
       "\n",
       "       Number of Open Accounts  Number of Credit Problems  \\\n",
       "count            111107.000000              111107.000000   \n",
       "mean                 11.125105                   0.168027   \n",
       "std                   5.010267                   0.484212   \n",
       "min                   0.000000                   0.000000   \n",
       "25%                   8.000000                   0.000000   \n",
       "50%                  10.000000                   0.000000   \n",
       "75%                  14.000000                   0.000000   \n",
       "max                  76.000000                  15.000000   \n",
       "\n",
       "       Current Credit Balance  Bankruptcies      Tax Liens  \n",
       "count            1.111070e+05  110879.00000  111096.000000  \n",
       "mean             1.548314e+04       0.11766       0.029353  \n",
       "std              1.982115e+04       0.35142       0.260575  \n",
       "min              0.000000e+00       0.00000       0.000000  \n",
       "25%              5.905000e+03       0.00000       0.000000  \n",
       "50%              1.102700e+04       0.00000       0.000000  \n",
       "75%              1.933800e+04       0.00000       0.000000  \n",
       "max              1.730472e+06       7.00000      15.000000  "
      ]
     },
     "execution_count": 6,
     "metadata": {},
     "output_type": "execute_result"
    }
   ],
   "source": [
    "train_set.describe()"
   ]
  },
  {
   "cell_type": "code",
   "execution_count": 7,
   "metadata": {},
   "outputs": [
    {
     "data": {
      "text/html": [
       "<div>\n",
       "<style scoped>\n",
       "    .dataframe tbody tr th:only-of-type {\n",
       "        vertical-align: middle;\n",
       "    }\n",
       "\n",
       "    .dataframe tbody tr th {\n",
       "        vertical-align: top;\n",
       "    }\n",
       "\n",
       "    .dataframe thead th {\n",
       "        text-align: right;\n",
       "    }\n",
       "</style>\n",
       "<table border=\"1\" class=\"dataframe\">\n",
       "  <thead>\n",
       "    <tr style=\"text-align: right;\">\n",
       "      <th></th>\n",
       "      <th>Loan ID</th>\n",
       "      <th>Customer ID</th>\n",
       "      <th>Loan Status</th>\n",
       "      <th>Term</th>\n",
       "      <th>Years in current job</th>\n",
       "      <th>Home Ownership</th>\n",
       "      <th>Purpose</th>\n",
       "      <th>Maximum Open Credit</th>\n",
       "    </tr>\n",
       "  </thead>\n",
       "  <tbody>\n",
       "    <tr>\n",
       "      <th>count</th>\n",
       "      <td>111107</td>\n",
       "      <td>111107</td>\n",
       "      <td>111107</td>\n",
       "      <td>111107</td>\n",
       "      <td>106414</td>\n",
       "      <td>111107</td>\n",
       "      <td>111107</td>\n",
       "      <td>111107</td>\n",
       "    </tr>\n",
       "    <tr>\n",
       "      <th>unique</th>\n",
       "      <td>88910</td>\n",
       "      <td>88910</td>\n",
       "      <td>2</td>\n",
       "      <td>2</td>\n",
       "      <td>11</td>\n",
       "      <td>4</td>\n",
       "      <td>16</td>\n",
       "      <td>46625</td>\n",
       "    </tr>\n",
       "    <tr>\n",
       "      <th>top</th>\n",
       "      <td>1d00b091-d51c-4128-82ac-1eac07c75150</td>\n",
       "      <td>68f34936-b154-485f-ad0b-b3f0a4114f9d</td>\n",
       "      <td>Loan Given</td>\n",
       "      <td>Short Term</td>\n",
       "      <td>10+ years</td>\n",
       "      <td>Home Mortgage</td>\n",
       "      <td>Debt Consolidation</td>\n",
       "      <td>0</td>\n",
       "    </tr>\n",
       "    <tr>\n",
       "      <th>freq</th>\n",
       "      <td>2</td>\n",
       "      <td>2</td>\n",
       "      <td>85934</td>\n",
       "      <td>80274</td>\n",
       "      <td>34551</td>\n",
       "      <td>53818</td>\n",
       "      <td>87277</td>\n",
       "      <td>752</td>\n",
       "    </tr>\n",
       "  </tbody>\n",
       "</table>\n",
       "</div>"
      ],
      "text/plain": [
       "                                     Loan ID  \\\n",
       "count                                 111107   \n",
       "unique                                 88910   \n",
       "top     1d00b091-d51c-4128-82ac-1eac07c75150   \n",
       "freq                                       2   \n",
       "\n",
       "                                 Customer ID Loan Status        Term  \\\n",
       "count                                 111107      111107      111107   \n",
       "unique                                 88910           2           2   \n",
       "top     68f34936-b154-485f-ad0b-b3f0a4114f9d  Loan Given  Short Term   \n",
       "freq                                       2       85934       80274   \n",
       "\n",
       "       Years in current job Home Ownership             Purpose  \\\n",
       "count                106414         111107              111107   \n",
       "unique                   11              4                  16   \n",
       "top               10+ years  Home Mortgage  Debt Consolidation   \n",
       "freq                  34551          53818               87277   \n",
       "\n",
       "       Maximum Open Credit  \n",
       "count               111107  \n",
       "unique               46625  \n",
       "top                      0  \n",
       "freq                   752  "
      ]
     },
     "execution_count": 7,
     "metadata": {},
     "output_type": "execute_result"
    }
   ],
   "source": [
    "train_set.describe(include = 'object')"
   ]
  },
  {
   "cell_type": "code",
   "execution_count": 8,
   "metadata": {},
   "outputs": [
    {
     "name": "stdout",
     "output_type": "stream",
     "text": [
      "<class 'pandas.core.frame.DataFrame'>\n",
      "RangeIndex: 111107 entries, 0 to 111106\n",
      "Data columns (total 19 columns):\n",
      " #   Column                        Non-Null Count   Dtype  \n",
      "---  ------                        --------------   -----  \n",
      " 0   Loan ID                       111107 non-null  object \n",
      " 1   Customer ID                   111107 non-null  object \n",
      " 2   Loan Status                   111107 non-null  object \n",
      " 3   Current Loan Amount           111107 non-null  int64  \n",
      " 4   Term                          111107 non-null  object \n",
      " 5   Credit Score                  89769 non-null   float64\n",
      " 6   Years in current job          106414 non-null  object \n",
      " 7   Home Ownership                111107 non-null  object \n",
      " 8   Annual Income                 89769 non-null   float64\n",
      " 9   Purpose                       111107 non-null  object \n",
      " 10  Monthly Debt                  111107 non-null  float64\n",
      " 11  Years of Credit History       111107 non-null  float64\n",
      " 12  Months since last delinquent  52104 non-null   float64\n",
      " 13  Number of Open Accounts       111107 non-null  int64  \n",
      " 14  Number of Credit Problems     111107 non-null  int64  \n",
      " 15  Current Credit Balance        111107 non-null  int64  \n",
      " 16  Maximum Open Credit           111107 non-null  object \n",
      " 17  Bankruptcies                  110879 non-null  float64\n",
      " 18  Tax Liens                     111096 non-null  float64\n",
      "dtypes: float64(7), int64(4), object(8)\n",
      "memory usage: 16.1+ MB\n"
     ]
    }
   ],
   "source": [
    "#SDisplaying a concise summary of dataframe\n",
    "train_set.info(memory_usage='Deep')"
   ]
  },
  {
   "cell_type": "code",
   "execution_count": 9,
   "metadata": {},
   "outputs": [
    {
     "data": {
      "text/html": [
       "<div>\n",
       "<style scoped>\n",
       "    .dataframe tbody tr th:only-of-type {\n",
       "        vertical-align: middle;\n",
       "    }\n",
       "\n",
       "    .dataframe tbody tr th {\n",
       "        vertical-align: top;\n",
       "    }\n",
       "\n",
       "    .dataframe thead th {\n",
       "        text-align: right;\n",
       "    }\n",
       "</style>\n",
       "<table border=\"1\" class=\"dataframe\">\n",
       "  <thead>\n",
       "    <tr style=\"text-align: right;\">\n",
       "      <th></th>\n",
       "      <th>LoanStatNew</th>\n",
       "      <th>Description</th>\n",
       "    </tr>\n",
       "  </thead>\n",
       "  <tbody>\n",
       "    <tr>\n",
       "      <th>0</th>\n",
       "      <td>annual_income -</td>\n",
       "      <td>The self-reported annual income provided by the borrower during registration</td>\n",
       "    </tr>\n",
       "    <tr>\n",
       "      <th>1</th>\n",
       "      <td>bankruptcies -</td>\n",
       "      <td>Number of public record bankruptcies</td>\n",
       "    </tr>\n",
       "    <tr>\n",
       "      <th>2</th>\n",
       "      <td>credit_score -</td>\n",
       "      <td>A value between 0 and 800 indicating the riskiness of the borrowers credit history.</td>\n",
       "    </tr>\n",
       "    <tr>\n",
       "      <th>3</th>\n",
       "      <td>current_credit_balance -</td>\n",
       "      <td>The amount you owe on your account, minus any pending purchases or payments</td>\n",
       "    </tr>\n",
       "    <tr>\n",
       "      <th>4</th>\n",
       "      <td>current_loan_amount -</td>\n",
       "      <td>This is the loan amount that was was either completely paid off, or the amount that was defaulted. This data is for the previous loan</td>\n",
       "    </tr>\n",
       "    <tr>\n",
       "      <th>5</th>\n",
       "      <td>home_ownership -</td>\n",
       "      <td>The home ownership status (Rent, Mortgage, Home Owner)</td>\n",
       "    </tr>\n",
       "    <tr>\n",
       "      <th>6</th>\n",
       "      <td>loan_status -</td>\n",
       "      <td>A categorical variable indicating if the loan was given or not</td>\n",
       "    </tr>\n",
       "    <tr>\n",
       "      <th>7</th>\n",
       "      <td>maximum_open_credit -</td>\n",
       "      <td>Maximum credit limit the borrower is allowed to spend on his credit</td>\n",
       "    </tr>\n",
       "    <tr>\n",
       "      <th>8</th>\n",
       "      <td>monthly_debt -</td>\n",
       "      <td>The monthly repayment for the customer's previous laon</td>\n",
       "    </tr>\n",
       "    <tr>\n",
       "      <th>9</th>\n",
       "      <td>months_since_last_delinquent -</td>\n",
       "      <td>The number of 30+ days past-due incidences of delinquency in the borrower's credit file</td>\n",
       "    </tr>\n",
       "    <tr>\n",
       "      <th>10</th>\n",
       "      <td>number_of_credit_problems -</td>\n",
       "      <td>Issues of fraud/identity theft, denied credit application or no credit history</td>\n",
       "    </tr>\n",
       "    <tr>\n",
       "      <th>11</th>\n",
       "      <td>number_of_open_accounts -</td>\n",
       "      <td>Number of account opened credit card by the customer</td>\n",
       "    </tr>\n",
       "    <tr>\n",
       "      <th>12</th>\n",
       "      <td>purpose -</td>\n",
       "      <td>A category provided by the borrower for which the loan will be used for</td>\n",
       "    </tr>\n",
       "    <tr>\n",
       "      <th>13</th>\n",
       "      <td>tax_liens -</td>\n",
       "      <td>Claims the government makes on a property when the owner fails to pay the property taxes</td>\n",
       "    </tr>\n",
       "    <tr>\n",
       "      <th>14</th>\n",
       "      <td>term -</td>\n",
       "      <td>Duration of loan Classified boadly in two categories Long or Short Term</td>\n",
       "    </tr>\n",
       "    <tr>\n",
       "      <th>15</th>\n",
       "      <td>years_in_credit_history -</td>\n",
       "      <td>Number of years from the very first time the customer accessed a credit facility</td>\n",
       "    </tr>\n",
       "    <tr>\n",
       "      <th>16</th>\n",
       "      <td>years_in_current_job -</td>\n",
       "      <td>Employment length in years</td>\n",
       "    </tr>\n",
       "    <tr>\n",
       "      <th>17</th>\n",
       "      <td>loan_id -</td>\n",
       "      <td>Unique identification for every loan applications</td>\n",
       "    </tr>\n",
       "    <tr>\n",
       "      <th>18</th>\n",
       "      <td>customer_id -</td>\n",
       "      <td>Unique identification for every customer</td>\n",
       "    </tr>\n",
       "  </tbody>\n",
       "</table>\n",
       "</div>"
      ],
      "text/plain": [
       "                       LoanStatNew  \\\n",
       "0                  annual_income -   \n",
       "1                   bankruptcies -   \n",
       "2                   credit_score -   \n",
       "3         current_credit_balance -   \n",
       "4            current_loan_amount -   \n",
       "5                 home_ownership -   \n",
       "6                    loan_status -   \n",
       "7            maximum_open_credit -   \n",
       "8                   monthly_debt -   \n",
       "9   months_since_last_delinquent -   \n",
       "10     number_of_credit_problems -   \n",
       "11       number_of_open_accounts -   \n",
       "12                       purpose -   \n",
       "13                     tax_liens -   \n",
       "14                          term -   \n",
       "15       years_in_credit_history -   \n",
       "16          years_in_current_job -   \n",
       "17                       loan_id -   \n",
       "18                  customer_id -    \n",
       "\n",
       "                                                                                                                               Description  \n",
       "0                                                             The self-reported annual income provided by the borrower during registration  \n",
       "1                                                                                                     Number of public record bankruptcies  \n",
       "2                                                      A value between 0 and 800 indicating the riskiness of the borrowers credit history.  \n",
       "3                                                              The amount you owe on your account, minus any pending purchases or payments  \n",
       "4   This is the loan amount that was was either completely paid off, or the amount that was defaulted. This data is for the previous loan   \n",
       "5                                                                                   The home ownership status (Rent, Mortgage, Home Owner)  \n",
       "6                                                                           A categorical variable indicating if the loan was given or not  \n",
       "7                                                                      Maximum credit limit the borrower is allowed to spend on his credit  \n",
       "8                                                                                   The monthly repayment for the customer's previous laon  \n",
       "9                                                  The number of 30+ days past-due incidences of delinquency in the borrower's credit file  \n",
       "10                                                          Issues of fraud/identity theft, denied credit application or no credit history  \n",
       "11                                                                                   Number of account opened credit card by the customer   \n",
       "12                                                                 A category provided by the borrower for which the loan will be used for  \n",
       "13                                                Claims the government makes on a property when the owner fails to pay the property taxes  \n",
       "14                                                                Duration of loan Classified boadly in two categories Long or Short Term   \n",
       "15                                                       Number of years from the very first time the customer accessed a credit facility   \n",
       "16                                                                                                              Employment length in years  \n",
       "17                                                                                      Unique identification for every loan applications   \n",
       "18                                                                                               Unique identification for every customer   "
      ]
     },
     "execution_count": 9,
     "metadata": {},
     "output_type": "execute_result"
    }
   ],
   "source": [
    "#Defining the Features of the column,we have created a data dictionary so that interpreting each column will be easy\n",
    "data_dic = pd.read_excel('Dic_data.xlsx',sheet_name='Loan_data')\n",
    "pd.set_option('max_colwidth',700)\n",
    "data_dic"
   ]
  },
  {
   "cell_type": "markdown",
   "metadata": {},
   "source": [
    "#### DATA CLEANING "
   ]
  },
  {
   "cell_type": "code",
   "execution_count": 10,
   "metadata": {},
   "outputs": [],
   "source": [
    "# For uniformity and easy handling of our column headings, we change them to lower case and replace the space with underscore. \n",
    "train_set.columns = train_set.columns.str.lower()\n",
    "train_set.columns = train_set.columns.str.replace(' ', '_')"
   ]
  },
  {
   "cell_type": "code",
   "execution_count": 11,
   "metadata": {
    "scrolled": false
   },
   "outputs": [
    {
     "data": {
      "text/plain": [
       "Index(['loan_id', 'customer_id', 'loan_status', 'current_loan_amount', 'term',\n",
       "       'credit_score', 'years_in_current_job', 'home_ownership',\n",
       "       'annual_income', 'purpose', 'monthly_debt', 'years_of_credit_history',\n",
       "       'months_since_last_delinquent', 'number_of_open_accounts',\n",
       "       'number_of_credit_problems', 'current_credit_balance',\n",
       "       'maximum_open_credit', 'bankruptcies', 'tax_liens'],\n",
       "      dtype='object')"
      ]
     },
     "execution_count": 11,
     "metadata": {},
     "output_type": "execute_result"
    }
   ],
   "source": [
    "train_set.columns"
   ]
  },
  {
   "cell_type": "code",
   "execution_count": 12,
   "metadata": {},
   "outputs": [
    {
     "data": {
      "text/html": [
       "<div>\n",
       "<style scoped>\n",
       "    .dataframe tbody tr th:only-of-type {\n",
       "        vertical-align: middle;\n",
       "    }\n",
       "\n",
       "    .dataframe tbody tr th {\n",
       "        vertical-align: top;\n",
       "    }\n",
       "\n",
       "    .dataframe thead th {\n",
       "        text-align: right;\n",
       "    }\n",
       "</style>\n",
       "<table border=\"1\" class=\"dataframe\">\n",
       "  <thead>\n",
       "    <tr style=\"text-align: right;\">\n",
       "      <th></th>\n",
       "      <th>loan_id</th>\n",
       "      <th>customer_id</th>\n",
       "      <th>loan_status</th>\n",
       "      <th>current_loan_amount</th>\n",
       "      <th>term</th>\n",
       "      <th>credit_score</th>\n",
       "      <th>years_in_current_job</th>\n",
       "      <th>home_ownership</th>\n",
       "      <th>annual_income</th>\n",
       "      <th>purpose</th>\n",
       "      <th>monthly_debt</th>\n",
       "      <th>years_of_credit_history</th>\n",
       "      <th>months_since_last_delinquent</th>\n",
       "      <th>number_of_open_accounts</th>\n",
       "      <th>number_of_credit_problems</th>\n",
       "      <th>current_credit_balance</th>\n",
       "      <th>maximum_open_credit</th>\n",
       "      <th>bankruptcies</th>\n",
       "      <th>tax_liens</th>\n",
       "    </tr>\n",
       "  </thead>\n",
       "  <tbody>\n",
       "    <tr>\n",
       "      <th>24387</th>\n",
       "      <td>7fd15008-5365-4385-bace-c093b1837555</td>\n",
       "      <td>2e70f347-b5e7-4c3c-aafd-1d0658f1b258</td>\n",
       "      <td>Loan Given</td>\n",
       "      <td>491</td>\n",
       "      <td>Short Term</td>\n",
       "      <td>NaN</td>\n",
       "      <td>&lt; 1 year</td>\n",
       "      <td>HaveMortgage</td>\n",
       "      <td>NaN</td>\n",
       "      <td>Take a Trip</td>\n",
       "      <td>19.67</td>\n",
       "      <td>27.4</td>\n",
       "      <td>8.0</td>\n",
       "      <td>3</td>\n",
       "      <td>0</td>\n",
       "      <td>43</td>\n",
       "      <td>1168</td>\n",
       "      <td>NaN</td>\n",
       "      <td>0.0</td>\n",
       "    </tr>\n",
       "    <tr>\n",
       "      <th>51376</th>\n",
       "      <td>20c4e560-e543-486a-a010-12bcdbc1b3ff</td>\n",
       "      <td>bf05d4b0-1506-4c88-aa04-8da7e66107a8</td>\n",
       "      <td>Loan Given</td>\n",
       "      <td>511</td>\n",
       "      <td>Short Term</td>\n",
       "      <td>747.0</td>\n",
       "      <td>&lt; 1 year</td>\n",
       "      <td>Rent</td>\n",
       "      <td>18389.0</td>\n",
       "      <td>other</td>\n",
       "      <td>65.43</td>\n",
       "      <td>12.7</td>\n",
       "      <td>0.0</td>\n",
       "      <td>4</td>\n",
       "      <td>0</td>\n",
       "      <td>0</td>\n",
       "      <td>0</td>\n",
       "      <td>NaN</td>\n",
       "      <td>0.0</td>\n",
       "    </tr>\n",
       "    <tr>\n",
       "      <th>104273</th>\n",
       "      <td>50118373-dd2c-402d-918b-a9e49d921eac</td>\n",
       "      <td>66a2647a-daec-494b-8588-2c846bba495f</td>\n",
       "      <td>Loan Given</td>\n",
       "      <td>701</td>\n",
       "      <td>Short Term</td>\n",
       "      <td>718.0</td>\n",
       "      <td>&lt; 1 year</td>\n",
       "      <td>Rent</td>\n",
       "      <td>19040.0</td>\n",
       "      <td>Debt Consolidation</td>\n",
       "      <td>196.74</td>\n",
       "      <td>11.6</td>\n",
       "      <td>NaN</td>\n",
       "      <td>4</td>\n",
       "      <td>0</td>\n",
       "      <td>0</td>\n",
       "      <td>0</td>\n",
       "      <td>0.0</td>\n",
       "      <td>0.0</td>\n",
       "    </tr>\n",
       "    <tr>\n",
       "      <th>61783</th>\n",
       "      <td>50118373-dd2c-402d-918b-a9e49d921eac</td>\n",
       "      <td>66a2647a-daec-494b-8588-2c846bba495f</td>\n",
       "      <td>Loan Given</td>\n",
       "      <td>701</td>\n",
       "      <td>Short Term</td>\n",
       "      <td>718.0</td>\n",
       "      <td>&lt; 1 year</td>\n",
       "      <td>Rent</td>\n",
       "      <td>19040.0</td>\n",
       "      <td>Debt Consolidation</td>\n",
       "      <td>196.74</td>\n",
       "      <td>11.6</td>\n",
       "      <td>NaN</td>\n",
       "      <td>4</td>\n",
       "      <td>0</td>\n",
       "      <td>0</td>\n",
       "      <td>0</td>\n",
       "      <td>0.0</td>\n",
       "      <td>0.0</td>\n",
       "    </tr>\n",
       "    <tr>\n",
       "      <th>69380</th>\n",
       "      <td>4fe45d92-7af3-483f-8742-c698df9aab08</td>\n",
       "      <td>7fd5a72c-8999-43cb-9b71-190db19a7965</td>\n",
       "      <td>Loan Refused</td>\n",
       "      <td>885</td>\n",
       "      <td>Short Term</td>\n",
       "      <td>731.0</td>\n",
       "      <td>3 years</td>\n",
       "      <td>Rent</td>\n",
       "      <td>11801.0</td>\n",
       "      <td>Educational Expenses</td>\n",
       "      <td>164.23</td>\n",
       "      <td>14.4</td>\n",
       "      <td>0.0</td>\n",
       "      <td>4</td>\n",
       "      <td>0</td>\n",
       "      <td>3033</td>\n",
       "      <td>4623</td>\n",
       "      <td>NaN</td>\n",
       "      <td>0.0</td>\n",
       "    </tr>\n",
       "    <tr>\n",
       "      <th>...</th>\n",
       "      <td>...</td>\n",
       "      <td>...</td>\n",
       "      <td>...</td>\n",
       "      <td>...</td>\n",
       "      <td>...</td>\n",
       "      <td>...</td>\n",
       "      <td>...</td>\n",
       "      <td>...</td>\n",
       "      <td>...</td>\n",
       "      <td>...</td>\n",
       "      <td>...</td>\n",
       "      <td>...</td>\n",
       "      <td>...</td>\n",
       "      <td>...</td>\n",
       "      <td>...</td>\n",
       "      <td>...</td>\n",
       "      <td>...</td>\n",
       "      <td>...</td>\n",
       "      <td>...</td>\n",
       "    </tr>\n",
       "    <tr>\n",
       "      <th>9365</th>\n",
       "      <td>9a513b61-870e-427c-a20a-a60d2d2c2b3a</td>\n",
       "      <td>618ce6da-0739-4f58-8ccc-d4819bd1af57</td>\n",
       "      <td>Loan Given</td>\n",
       "      <td>99999999</td>\n",
       "      <td>Short Term</td>\n",
       "      <td>732.0</td>\n",
       "      <td>&lt; 1 year</td>\n",
       "      <td>Rent</td>\n",
       "      <td>34738.0</td>\n",
       "      <td>Debt Consolidation</td>\n",
       "      <td>275.00</td>\n",
       "      <td>15.1</td>\n",
       "      <td>NaN</td>\n",
       "      <td>3</td>\n",
       "      <td>0</td>\n",
       "      <td>10118</td>\n",
       "      <td>30753</td>\n",
       "      <td>0.0</td>\n",
       "      <td>0.0</td>\n",
       "    </tr>\n",
       "    <tr>\n",
       "      <th>9366</th>\n",
       "      <td>deb06d96-a759-4803-8395-0532485e0ece</td>\n",
       "      <td>242e996f-c4d7-497d-a172-1d54bad1c10a</td>\n",
       "      <td>Loan Given</td>\n",
       "      <td>99999999</td>\n",
       "      <td>Short Term</td>\n",
       "      <td>748.0</td>\n",
       "      <td>2 years</td>\n",
       "      <td>Rent</td>\n",
       "      <td>269225.0</td>\n",
       "      <td>Buy a Car</td>\n",
       "      <td>20.20</td>\n",
       "      <td>12.6</td>\n",
       "      <td>NaN</td>\n",
       "      <td>4</td>\n",
       "      <td>0</td>\n",
       "      <td>1974</td>\n",
       "      <td>25969</td>\n",
       "      <td>0.0</td>\n",
       "      <td>0.0</td>\n",
       "    </tr>\n",
       "    <tr>\n",
       "      <th>9367</th>\n",
       "      <td>9770313a-5bc3-461f-b631-685dcd3aa28d</td>\n",
       "      <td>871361c7-4f75-4fde-90d3-e3538f6b0bdd</td>\n",
       "      <td>Loan Given</td>\n",
       "      <td>99999999</td>\n",
       "      <td>Long Term</td>\n",
       "      <td>701.0</td>\n",
       "      <td>4 years</td>\n",
       "      <td>Rent</td>\n",
       "      <td>91400.0</td>\n",
       "      <td>Buy House</td>\n",
       "      <td>1553.81</td>\n",
       "      <td>9.4</td>\n",
       "      <td>NaN</td>\n",
       "      <td>34</td>\n",
       "      <td>0</td>\n",
       "      <td>11099</td>\n",
       "      <td>53104</td>\n",
       "      <td>0.0</td>\n",
       "      <td>0.0</td>\n",
       "    </tr>\n",
       "    <tr>\n",
       "      <th>9357</th>\n",
       "      <td>ba3e912a-2927-4713-a74f-a1550712197e</td>\n",
       "      <td>df2984b5-61f4-4f7e-9684-bac3a742321d</td>\n",
       "      <td>Loan Given</td>\n",
       "      <td>99999999</td>\n",
       "      <td>Short Term</td>\n",
       "      <td>710.0</td>\n",
       "      <td>10+ years</td>\n",
       "      <td>Home Mortgage</td>\n",
       "      <td>42815.0</td>\n",
       "      <td>Debt Consolidation</td>\n",
       "      <td>784.94</td>\n",
       "      <td>12.5</td>\n",
       "      <td>NaN</td>\n",
       "      <td>8</td>\n",
       "      <td>1</td>\n",
       "      <td>12208</td>\n",
       "      <td>15453</td>\n",
       "      <td>1.0</td>\n",
       "      <td>0.0</td>\n",
       "    </tr>\n",
       "    <tr>\n",
       "      <th>10955</th>\n",
       "      <td>2561f0fa-f7bf-46e8-9ba9-db33be7bf5fb</td>\n",
       "      <td>d55d7ec4-5682-4d30-9dc2-631d57440e00</td>\n",
       "      <td>Loan Given</td>\n",
       "      <td>99999999</td>\n",
       "      <td>Short Term</td>\n",
       "      <td>714.0</td>\n",
       "      <td>2 years</td>\n",
       "      <td>Rent</td>\n",
       "      <td>59970.0</td>\n",
       "      <td>Debt Consolidation</td>\n",
       "      <td>293.85</td>\n",
       "      <td>31.9</td>\n",
       "      <td>42.0</td>\n",
       "      <td>7</td>\n",
       "      <td>0</td>\n",
       "      <td>2280</td>\n",
       "      <td>5193</td>\n",
       "      <td>0.0</td>\n",
       "      <td>0.0</td>\n",
       "    </tr>\n",
       "  </tbody>\n",
       "</table>\n",
       "<p>111107 rows × 19 columns</p>\n",
       "</div>"
      ],
      "text/plain": [
       "                                     loan_id  \\\n",
       "24387   7fd15008-5365-4385-bace-c093b1837555   \n",
       "51376   20c4e560-e543-486a-a010-12bcdbc1b3ff   \n",
       "104273  50118373-dd2c-402d-918b-a9e49d921eac   \n",
       "61783   50118373-dd2c-402d-918b-a9e49d921eac   \n",
       "69380   4fe45d92-7af3-483f-8742-c698df9aab08   \n",
       "...                                      ...   \n",
       "9365    9a513b61-870e-427c-a20a-a60d2d2c2b3a   \n",
       "9366    deb06d96-a759-4803-8395-0532485e0ece   \n",
       "9367    9770313a-5bc3-461f-b631-685dcd3aa28d   \n",
       "9357    ba3e912a-2927-4713-a74f-a1550712197e   \n",
       "10955   2561f0fa-f7bf-46e8-9ba9-db33be7bf5fb   \n",
       "\n",
       "                                 customer_id   loan_status  \\\n",
       "24387   2e70f347-b5e7-4c3c-aafd-1d0658f1b258    Loan Given   \n",
       "51376   bf05d4b0-1506-4c88-aa04-8da7e66107a8    Loan Given   \n",
       "104273  66a2647a-daec-494b-8588-2c846bba495f    Loan Given   \n",
       "61783   66a2647a-daec-494b-8588-2c846bba495f    Loan Given   \n",
       "69380   7fd5a72c-8999-43cb-9b71-190db19a7965  Loan Refused   \n",
       "...                                      ...           ...   \n",
       "9365    618ce6da-0739-4f58-8ccc-d4819bd1af57    Loan Given   \n",
       "9366    242e996f-c4d7-497d-a172-1d54bad1c10a    Loan Given   \n",
       "9367    871361c7-4f75-4fde-90d3-e3538f6b0bdd    Loan Given   \n",
       "9357    df2984b5-61f4-4f7e-9684-bac3a742321d    Loan Given   \n",
       "10955   d55d7ec4-5682-4d30-9dc2-631d57440e00    Loan Given   \n",
       "\n",
       "        current_loan_amount        term  credit_score years_in_current_job  \\\n",
       "24387                   491  Short Term           NaN             < 1 year   \n",
       "51376                   511  Short Term         747.0             < 1 year   \n",
       "104273                  701  Short Term         718.0             < 1 year   \n",
       "61783                   701  Short Term         718.0             < 1 year   \n",
       "69380                   885  Short Term         731.0              3 years   \n",
       "...                     ...         ...           ...                  ...   \n",
       "9365               99999999  Short Term         732.0             < 1 year   \n",
       "9366               99999999  Short Term         748.0              2 years   \n",
       "9367               99999999   Long Term         701.0              4 years   \n",
       "9357               99999999  Short Term         710.0            10+ years   \n",
       "10955              99999999  Short Term         714.0              2 years   \n",
       "\n",
       "       home_ownership  annual_income               purpose  monthly_debt  \\\n",
       "24387    HaveMortgage            NaN           Take a Trip         19.67   \n",
       "51376            Rent        18389.0                 other         65.43   \n",
       "104273           Rent        19040.0    Debt Consolidation        196.74   \n",
       "61783            Rent        19040.0    Debt Consolidation        196.74   \n",
       "69380            Rent        11801.0  Educational Expenses        164.23   \n",
       "...               ...            ...                   ...           ...   \n",
       "9365             Rent        34738.0    Debt Consolidation        275.00   \n",
       "9366             Rent       269225.0             Buy a Car         20.20   \n",
       "9367             Rent        91400.0             Buy House       1553.81   \n",
       "9357    Home Mortgage        42815.0    Debt Consolidation        784.94   \n",
       "10955            Rent        59970.0    Debt Consolidation        293.85   \n",
       "\n",
       "        years_of_credit_history  months_since_last_delinquent  \\\n",
       "24387                      27.4                           8.0   \n",
       "51376                      12.7                           0.0   \n",
       "104273                     11.6                           NaN   \n",
       "61783                      11.6                           NaN   \n",
       "69380                      14.4                           0.0   \n",
       "...                         ...                           ...   \n",
       "9365                       15.1                           NaN   \n",
       "9366                       12.6                           NaN   \n",
       "9367                        9.4                           NaN   \n",
       "9357                       12.5                           NaN   \n",
       "10955                      31.9                          42.0   \n",
       "\n",
       "        number_of_open_accounts  number_of_credit_problems  \\\n",
       "24387                         3                          0   \n",
       "51376                         4                          0   \n",
       "104273                        4                          0   \n",
       "61783                         4                          0   \n",
       "69380                         4                          0   \n",
       "...                         ...                        ...   \n",
       "9365                          3                          0   \n",
       "9366                          4                          0   \n",
       "9367                         34                          0   \n",
       "9357                          8                          1   \n",
       "10955                         7                          0   \n",
       "\n",
       "        current_credit_balance maximum_open_credit  bankruptcies  tax_liens  \n",
       "24387                       43                1168           NaN        0.0  \n",
       "51376                        0                   0           NaN        0.0  \n",
       "104273                       0                   0           0.0        0.0  \n",
       "61783                        0                   0           0.0        0.0  \n",
       "69380                     3033                4623           NaN        0.0  \n",
       "...                        ...                 ...           ...        ...  \n",
       "9365                     10118               30753           0.0        0.0  \n",
       "9366                      1974               25969           0.0        0.0  \n",
       "9367                     11099               53104           0.0        0.0  \n",
       "9357                     12208               15453           1.0        0.0  \n",
       "10955                     2280                5193           0.0        0.0  \n",
       "\n",
       "[111107 rows x 19 columns]"
      ]
     },
     "execution_count": 12,
     "metadata": {},
     "output_type": "execute_result"
    }
   ],
   "source": [
    "train_set.sort_values('current_loan_amount', axis = 0, ascending = True)\n"
   ]
  },
  {
   "cell_type": "markdown",
   "metadata": {},
   "source": [
    "#### LOAN STATUS "
   ]
  },
  {
   "cell_type": "code",
   "execution_count": 13,
   "metadata": {},
   "outputs": [],
   "source": [
    "##Drop the duplicates with respect to LOAN ID. A customer can have multiple loans but not a duplicate of same loan \n",
    "train_set.drop_duplicates(subset=\"loan_id\",keep='first',inplace=True)"
   ]
  },
  {
   "cell_type": "code",
   "execution_count": 14,
   "metadata": {},
   "outputs": [
    {
     "data": {
      "image/png": "[encoded data removed]",
      "text/plain": [
       "<Figure size 720x360 with 1 Axes>"
      ]
     },
     "metadata": {
      "needs_background": "light"
     },
     "output_type": "display_data"
    }
   ],
   "source": [
    "##PLotting the loan status \n",
    "status=train_set[\"loan_status\"].value_counts() \n",
    "plt.figure(figsize=(10,5))\n",
    "sns.barplot(status.index, status.values, alpha=0.8)\n",
    "plt.title('Loan Status distribution')\n",
    "plt.ylabel('Number of Occurrences', fontsize=12)\n",
    "plt.xlabel('Loan Status', fontsize=12)\n",
    "plt.show()"
   ]
  },
  {
   "cell_type": "markdown",
   "metadata": {},
   "source": [
    "#### CURRENT LOAN AMOUNT"
   ]
  },
  {
   "cell_type": "code",
   "execution_count": 15,
   "metadata": {},
   "outputs": [
    {
     "data": {
      "image/png": "[encoded data removed]",
      "text/plain": [
       "<Figure size 432x288 with 1 Axes>"
      ]
     },
     "metadata": {
      "needs_background": "light"
     },
     "output_type": "display_data"
    }
   ],
   "source": [
    "train_set['current_loan_amount'].describe()\n",
    "train_set['current_loan_amount'].plot.hist(grid=True, bins=20, rwidth=0.9,\n",
    "                   color='#607c8e')\n",
    "plt.title('current_loan_amount')\n",
    "plt.xlabel('Count')\n",
    "plt.ylabel('Loan amount')\n",
    "plt.grid(axis='y', alpha=0.75)"
   ]
  },
  {
   "cell_type": "code",
   "execution_count": 16,
   "metadata": {},
   "outputs": [
    {
     "name": "stdout",
     "output_type": "stream",
     "text": [
      "16202.0\n"
     ]
    },
    {
     "data": {
      "text/plain": [
       "count    76172.000000\n",
       "mean     13933.915756\n",
       "std       8235.921922\n",
       "min        491.000000\n",
       "25%       7810.000000\n",
       "50%      12038.000000\n",
       "75%      19351.000000\n",
       "max      35875.000000\n",
       "Name: current_loan_amount_temp, dtype: float64"
      ]
     },
     "execution_count": 16,
     "metadata": {},
     "output_type": "execute_result"
    },
    {
     "data": {
      "image/png": "[encoded data removed]",
      "text/plain": [
       "<Figure size 432x288 with 1 Axes>"
      ]
     },
     "metadata": {
      "needs_background": "light"
     },
     "output_type": "display_data"
    }
   ],
   "source": [
    "# The Bar plot shows an outlier \n",
    "#Finding IQR's for outlier removal\n",
    "\n",
    "Q1 = train_set[\"current_loan_amount\"].quantile(0.25)\n",
    "Q3 = train_set[\"current_loan_amount\"].quantile(0.75)\n",
    "IQR = Q3 - Q1\n",
    "print(IQR)\n",
    "\n",
    "\n",
    "train_set[\"current_loan_amount\"][((train_set[\"current_loan_amount\"] < (Q1 - 1.5 * IQR)) |(train_set[\"current_loan_amount\"] > (Q3 + 1.5 * IQR)))]\n",
    "\n",
    "\n",
    "temp=np.array(train_set[\"current_loan_amount\"].values.tolist())\n",
    "train_set[\"current_loan_amount_temp\"] = np.where(temp > 9999998, 'NaN', temp).tolist()\n",
    "\n",
    "\n",
    "temp=train_set[\"current_loan_amount_temp\"][train_set[\"current_loan_amount_temp\"]!='NaN'].astype(str).astype(int)\n",
    "temp.plot.hist(grid=True, bins=20, rwidth=0.9,\n",
    "                   color='#607c8e')\n",
    "                   \n",
    "temp.describe()\n"
   ]
  },
  {
   "cell_type": "code",
   "execution_count": 17,
   "metadata": {},
   "outputs": [],
   "source": [
    "#Replacing the data with 50% percentile or mean\n",
    "temp=np.array(train_set[\"current_loan_amount\"].values.tolist())\n",
    "train_set[\"current_loan_amount\"] = np.where(temp > 9999998,12038,temp).tolist()\n",
    "\n",
    "train_set=train_set.drop(['current_loan_amount_temp'],axis=1)"
   ]
  },
  {
   "cell_type": "code",
   "execution_count": 18,
   "metadata": {},
   "outputs": [
    {
     "data": {
      "text/plain": [
       "count    88910.000000\n",
       "mean     13662.290800\n",
       "std       7652.028763\n",
       "min        491.000000\n",
       "25%       8283.000000\n",
       "50%      12038.000000\n",
       "75%      17705.750000\n",
       "max      35875.000000\n",
       "Name: current_loan_amount, dtype: float64"
      ]
     },
     "execution_count": 18,
     "metadata": {},
     "output_type": "execute_result"
    }
   ],
   "source": [
    "train_set[\"current_loan_amount\"].describe()"
   ]
  },
  {
   "cell_type": "markdown",
   "metadata": {},
   "source": [
    "#### TERM"
   ]
  },
  {
   "cell_type": "code",
   "execution_count": 19,
   "metadata": {},
   "outputs": [
    {
     "data": {
      "image/png": "[encoded data removed]",
      "text/plain": [
       "<Figure size 720x360 with 1 Axes>"
      ]
     },
     "metadata": {
      "needs_background": "light"
     },
     "output_type": "display_data"
    }
   ],
   "source": [
    "status=train_set[\"term\"].value_counts() \n",
    "\n",
    "plt.figure(figsize=(10,5))\n",
    "sns.barplot(status.index, status.values, alpha=0.8)\n",
    "plt.title('Loan Term distribution')\n",
    "plt.ylabel('Number of Occurrences', fontsize=12)\n",
    "plt.xlabel('Loan term', fontsize=12)\n",
    "plt.show()"
   ]
  },
  {
   "cell_type": "markdown",
   "metadata": {},
   "source": [
    "#### CREDIT SCORE "
   ]
  },
  {
   "cell_type": "code",
   "execution_count": 20,
   "metadata": {},
   "outputs": [
    {
     "data": {
      "text/plain": [
       "array([False,  True])"
      ]
     },
     "execution_count": 20,
     "metadata": {},
     "output_type": "execute_result"
    },
    {
     "data": {
      "image/png": "[encoded data removed]",
      "text/plain": [
       "<Figure size 432x288 with 1 Axes>"
      ]
     },
     "metadata": {
      "needs_background": "light"
     },
     "output_type": "display_data"
    }
   ],
   "source": [
    "train_set[\"credit_score\"].describe()\n",
    "##Max is 7510. It should be between 0-800\n",
    "plt.boxplot(train_set[\"credit_score\"])\n",
    "train_set[\"credit_score\"].isnull().unique()"
   ]
  },
  {
   "cell_type": "code",
   "execution_count": 21,
   "metadata": {},
   "outputs": [
    {
     "data": {
      "text/plain": [
       "array([False,  True])"
      ]
     },
     "execution_count": 21,
     "metadata": {},
     "output_type": "execute_result"
    }
   ],
   "source": [
    "train_set[\"credit_score\"].isnull().unique()"
   ]
  },
  {
   "cell_type": "code",
   "execution_count": 22,
   "metadata": {},
   "outputs": [],
   "source": [
    "#Shows there are missing values in the data\n",
    "\n",
    "#Now lets do treatment of the data at hand. Let us firstly divide the values greater than 800 by 10\n",
    "\n",
    "train_set[\"credit_score\"]=np.where(train_set[\"credit_score\"]>800, train_set[\"credit_score\"]/10, train_set[\"credit_score\"])"
   ]
  },
  {
   "cell_type": "code",
   "execution_count": 23,
   "metadata": {},
   "outputs": [],
   "source": [
    "#Now lets replace the missing values with median \n",
    "median_score=statistics.median(train_set[\"credit_score\"])"
   ]
  },
  {
   "cell_type": "code",
   "execution_count": 24,
   "metadata": {},
   "outputs": [],
   "source": [
    "train_set[\"credit_score_1\"]=train_set[\"credit_score\"]\n",
    "train_set[\"credit_score_1\"].fillna(median_score, inplace = True) "
   ]
  },
  {
   "cell_type": "code",
   "execution_count": 25,
   "metadata": {},
   "outputs": [
    {
     "data": {
      "text/plain": [
       "<AxesSubplot:xlabel='credit_score_1', ylabel='Density'>"
      ]
     },
     "execution_count": 25,
     "metadata": {},
     "output_type": "execute_result"
    },
    {
     "data": {
      "image/png": "[encoded data removed]",
      "text/plain": [
       "<Figure size 432x288 with 1 Axes>"
      ]
     },
     "metadata": {
      "needs_background": "light"
     },
     "output_type": "display_data"
    }
   ],
   "source": [
    "sns.distplot(train_set[\"credit_score_1\"])\n",
    "#As we can see this data is skewed so when we replace it with median it is giving us problems. \n",
    "#Replacing with 75th percentile and taking log we get a better distribution"
   ]
  },
  {
   "cell_type": "code",
   "execution_count": 26,
   "metadata": {},
   "outputs": [
    {
     "data": {
      "text/plain": [
       "<AxesSubplot:xlabel='credit_score', ylabel='Density'>"
      ]
     },
     "execution_count": 26,
     "metadata": {},
     "output_type": "execute_result"
    },
    {
     "data": {
      "image/png": "[encoded data removed]",
      "text/plain": [
       "<Figure size 432x288 with 1 Axes>"
      ]
     },
     "metadata": {
      "needs_background": "light"
     },
     "output_type": "display_data"
    }
   ],
   "source": [
    "train_set[\"credit_score\"].fillna(741, inplace = True) \n",
    "\n",
    "sns.distplot(train_set[\"credit_score\"])\n",
    "sns.distplot(np.log(train_set[\"credit_score\"]))"
   ]
  },
  {
   "cell_type": "markdown",
   "metadata": {},
   "source": [
    "#### HOME OWNERSHIP "
   ]
  },
  {
   "cell_type": "code",
   "execution_count": 27,
   "metadata": {},
   "outputs": [
    {
     "data": {
      "text/plain": [
       "array(['Rent', 'Home Mortgage', 'Own Home'], dtype=object)"
      ]
     },
     "execution_count": 27,
     "metadata": {},
     "output_type": "execute_result"
    }
   ],
   "source": [
    "train_set['home_ownership'].unique()\n",
    "#As we can see it has Home Mortgage and haveMortgage as 2 different classes. Lets fix that\n",
    "\n",
    "train_set['home_ownership']=train_set['home_ownership'].str.replace('HaveMortgage', 'Home Mortgage', regex=True)\n",
    "\n",
    "train_set['home_ownership'].unique()\n"
   ]
  },
  {
   "cell_type": "markdown",
   "metadata": {},
   "source": [
    "#### ANNUAL INCOME"
   ]
  },
  {
   "cell_type": "code",
   "execution_count": 28,
   "metadata": {},
   "outputs": [
    {
     "data": {
      "text/plain": [
       "count    6.757200e+04\n",
       "mean     7.234575e+04\n",
       "std      5.836101e+04\n",
       "min      4.033000e+03\n",
       "25%      4.458600e+04\n",
       "50%      6.149400e+04\n",
       "75%      8.675025e+04\n",
       "max      8.713547e+06\n",
       "Name: annual_income, dtype: float64"
      ]
     },
     "execution_count": 28,
     "metadata": {},
     "output_type": "execute_result"
    }
   ],
   "source": [
    "train_set['annual_income'].describe()"
   ]
  },
  {
   "cell_type": "code",
   "execution_count": 29,
   "metadata": {},
   "outputs": [
    {
     "data": {
      "text/plain": [
       "0.200     40764.00\n",
       "0.750     86750.25\n",
       "0.900    119916.00\n",
       "0.950    147645.00\n",
       "0.990    239286.96\n",
       "0.999    491575.77\n",
       "Name: annual_income, dtype: float64"
      ]
     },
     "execution_count": 29,
     "metadata": {},
     "output_type": "execute_result"
    }
   ],
   "source": [
    "##Lets look at the quantiles of this columns\n",
    "\n",
    "train_set['annual_income'].quantile([.2,0.75,0.90,.95,0.99,.999])"
   ]
  },
  {
   "cell_type": "code",
   "execution_count": 30,
   "metadata": {},
   "outputs": [
    {
     "data": {
      "text/plain": [
       "21338"
      ]
     },
     "execution_count": 30,
     "metadata": {},
     "output_type": "execute_result"
    }
   ],
   "source": [
    "train_set['annual_income'].isna().sum()\n",
    "#So we have about 21338 null values \n",
    "\n",
    "##We will impute the mising data with other columns towards the end"
   ]
  },
  {
   "cell_type": "markdown",
   "metadata": {},
   "source": [
    "#### PURPOSE"
   ]
  },
  {
   "cell_type": "code",
   "execution_count": 31,
   "metadata": {},
   "outputs": [
    {
     "data": {
      "text/plain": [
       "Debt Consolidation      70447\n",
       "Home Improvements        5206\n",
       "other                    4917\n",
       "Other                    2850\n",
       "Business Loan            1328\n",
       "Buy a Car                1196\n",
       "Medical Bills             955\n",
       "Buy House                 559\n",
       "Take a Trip               454\n",
       "major_purchase            344\n",
       "small_business            248\n",
       "moving                    124\n",
       "wedding                    99\n",
       "Educational Expenses       92\n",
       "vacation                   82\n",
       "renewable_energy            9\n",
       "Name: purpose, dtype: int64"
      ]
     },
     "execution_count": 31,
     "metadata": {},
     "output_type": "execute_result"
    }
   ],
   "source": [
    "\n",
    "train_set['purpose'].value_counts()"
   ]
  },
  {
   "cell_type": "code",
   "execution_count": 32,
   "metadata": {},
   "outputs": [],
   "source": [
    "#So other and Other mean the same thing. Lets make it the same\n",
    "\n",
    "train_set['purpose']=train_set['purpose'].str.replace('Other','other', regex=True)\n"
   ]
  },
  {
   "cell_type": "code",
   "execution_count": 33,
   "metadata": {},
   "outputs": [
    {
     "data": {
      "image/png": "[encoded data removed]",
      "text/plain": [
       "<Figure size 1440x720 with 1 Axes>"
      ]
     },
     "metadata": {
      "needs_background": "light"
     },
     "output_type": "display_data"
    }
   ],
   "source": [
    "status=train_set[\"purpose\"].value_counts() \n",
    "\n",
    "plt.figure(figsize=(20,10))\n",
    "sns.lineplot(status.index, status.values, alpha=0.8)\n",
    "plt.title('Purpose')\n",
    "plt.ylabel('Count', fontsize=12)\n",
    "plt.xlabel('Purpose', fontsize=12)\n",
    "plt.show()"
   ]
  },
  {
   "cell_type": "markdown",
   "metadata": {},
   "source": [
    "#### MONTHLY DEBT"
   ]
  },
  {
   "cell_type": "code",
   "execution_count": 34,
   "metadata": {},
   "outputs": [
    {
     "data": {
      "text/plain": [
       "0         777.39\n",
       "1         892.09\n",
       "2        1244.02\n",
       "3         990.94\n",
       "4         503.71\n",
       "          ...   \n",
       "88905     567.62\n",
       "88906    2508.63\n",
       "88907     818.20\n",
       "88908     360.17\n",
       "88909     749.13\n",
       "Name: monthly_debt, Length: 88910, dtype: float64"
      ]
     },
     "execution_count": 34,
     "metadata": {},
     "output_type": "execute_result"
    }
   ],
   "source": [
    "##So this is not numeric column. Lets explore\n",
    "train_set['monthly_debt'] "
   ]
  },
  {
   "cell_type": "code",
   "execution_count": 35,
   "metadata": {},
   "outputs": [
    {
     "data": {
      "text/plain": [
       "<AxesSubplot:xlabel='monthly_debt', ylabel='Density'>"
      ]
     },
     "execution_count": 35,
     "metadata": {},
     "output_type": "execute_result"
    },
    {
     "data": {
      "image/png": "[encoded data removed]",
      "text/plain": [
       "<Figure size 432x288 with 1 Axes>"
      ]
     },
     "metadata": {
      "needs_background": "light"
     },
     "output_type": "display_data"
    }
   ],
   "source": [
    "#As we can see there is a $ symbol present. Lets replace it \n",
    "train_set['monthly_debt']=train_set['monthly_debt'].apply(str).str.replace('$', '', regex=True)\n",
    "\n",
    "train_set['monthly_debt']=pd.to_numeric(train_set['monthly_debt'] )\n",
    "\n",
    "sns.distplot(train_set[\"monthly_debt\"])\n"
   ]
  },
  {
   "cell_type": "code",
   "execution_count": 36,
   "metadata": {},
   "outputs": [
    {
     "data": {
      "text/plain": [
       "count    88910.000000\n",
       "mean       963.102059\n",
       "std        637.524064\n",
       "min          0.000000\n",
       "25%        532.220000\n",
       "50%        843.925000\n",
       "75%       1250.527500\n",
       "max      22939.120000\n",
       "Name: monthly_debt, dtype: float64"
      ]
     },
     "execution_count": 36,
     "metadata": {},
     "output_type": "execute_result"
    }
   ],
   "source": [
    "#We can see that there are outliers in this data because of the plot\n",
    "#Lets explore\n",
    "\n",
    "train_set['monthly_debt'].describe()"
   ]
  },
  {
   "cell_type": "code",
   "execution_count": 37,
   "metadata": {},
   "outputs": [
    {
     "data": {
      "text/plain": [
       "0.200     463.75000\n",
       "0.750    1250.52750\n",
       "0.900    1743.08300\n",
       "0.950    2115.51100\n",
       "0.990    3087.11100\n",
       "0.999    4926.37475\n",
       "Name: monthly_debt, dtype: float64"
      ]
     },
     "execution_count": 37,
     "metadata": {},
     "output_type": "execute_result"
    }
   ],
   "source": [
    "#The max value is too high here\n",
    "\n",
    "train_set['monthly_debt'].quantile([.2,0.75,0.90,.95,0.99,.999])"
   ]
  },
  {
   "cell_type": "code",
   "execution_count": 38,
   "metadata": {},
   "outputs": [
    {
     "data": {
      "text/plain": [
       "0.9995    5482.111455\n",
       "0.9999    7774.610660\n",
       "Name: monthly_debt, dtype: float64"
      ]
     },
     "execution_count": 38,
     "metadata": {},
     "output_type": "execute_result"
    }
   ],
   "source": [
    "#Problem is with 99th percentile. lets dig deeper\n",
    "\n",
    "train_set['monthly_debt'].quantile([0.9995,.9999])"
   ]
  },
  {
   "cell_type": "code",
   "execution_count": 39,
   "metadata": {},
   "outputs": [
    {
     "data": {
      "text/plain": [
       "0.99970     5978.574911\n",
       "0.99999    13262.762330\n",
       "Name: monthly_debt, dtype: float64"
      ]
     },
     "execution_count": 39,
     "metadata": {},
     "output_type": "execute_result"
    }
   ],
   "source": [
    "#So problem again is wit 99th percentile\n",
    "\n",
    "train_set['monthly_debt'].quantile([0.9997,.99999])"
   ]
  },
  {
   "cell_type": "code",
   "execution_count": 40,
   "metadata": {},
   "outputs": [
    {
     "data": {
      "text/plain": [
       "0.999     4926.37475\n",
       "1.000    22939.12000\n",
       "Name: monthly_debt, dtype: float64"
      ]
     },
     "execution_count": 40,
     "metadata": {},
     "output_type": "execute_result"
    }
   ],
   "source": [
    "train_set['monthly_debt'].quantile([0.999,1])"
   ]
  },
  {
   "cell_type": "code",
   "execution_count": 41,
   "metadata": {},
   "outputs": [
    {
     "data": {
      "text/plain": [
       "<AxesSubplot:xlabel='monthly_debt', ylabel='Density'>"
      ]
     },
     "execution_count": 41,
     "metadata": {},
     "output_type": "execute_result"
    },
    {
     "data": {
      "image/png": "[encoded data removed]",
      "text/plain": [
       "<Figure size 432x288 with 1 Axes>"
      ]
     },
     "metadata": {
      "needs_background": "light"
     },
     "output_type": "display_data"
    }
   ],
   "source": [
    "#Need to replace this\n",
    "\n",
    "\n",
    "train_set.loc[train_set['monthly_debt'] > 4926, 'monthly_debt'] = 4926\n",
    "\n",
    "sns.distplot(train_set[\"monthly_debt\"])"
   ]
  },
  {
   "cell_type": "code",
   "execution_count": 42,
   "metadata": {},
   "outputs": [],
   "source": [
    "#Now we get the right distribution"
   ]
  },
  {
   "cell_type": "markdown",
   "metadata": {},
   "source": [
    "#### YEARS OF CREDIT HISTORY "
   ]
  },
  {
   "cell_type": "code",
   "execution_count": 43,
   "metadata": {},
   "outputs": [
    {
     "data": {
      "text/plain": [
       "16.0    1234\n",
       "15.0    1159\n",
       "17.0    1091\n",
       "16.5    1045\n",
       "14.0    1031\n",
       "        ... \n",
       "59.7       1\n",
       "52.8       1\n",
       "59.9       1\n",
       "59.5       1\n",
       "50.2       1\n",
       "Name: years_of_credit_history, Length: 508, dtype: int64"
      ]
     },
     "execution_count": 43,
     "metadata": {},
     "output_type": "execute_result"
    }
   ],
   "source": [
    "train_set['years_of_credit_history'].value_counts()"
   ]
  },
  {
   "cell_type": "code",
   "execution_count": 44,
   "metadata": {},
   "outputs": [
    {
     "data": {
      "text/plain": [
       "<AxesSubplot:xlabel='years_of_credit_history', ylabel='Density'>"
      ]
     },
     "execution_count": 44,
     "metadata": {},
     "output_type": "execute_result"
    },
    {
     "data": {
      "image/png": "[encoded data removed]",
      "text/plain": [
       "<Figure size 432x288 with 1 Axes>"
      ]
     },
     "metadata": {
      "needs_background": "light"
     },
     "output_type": "display_data"
    }
   ],
   "source": [
    "sns.distplot(train_set[\"years_of_credit_history\"])\n",
    "#Over all looks pretty clean! no need of doing anything\n"
   ]
  },
  {
   "cell_type": "markdown",
   "metadata": {},
   "source": [
    "#### MONTH SINCE LAST DELINQUENT "
   ]
  },
  {
   "cell_type": "code",
   "execution_count": 45,
   "metadata": {},
   "outputs": [
    {
     "data": {
      "text/plain": [
       "count    40404.000000\n",
       "mean        35.080289\n",
       "std         22.008583\n",
       "min          0.000000\n",
       "25%         16.000000\n",
       "50%         32.000000\n",
       "75%         51.000000\n",
       "max        176.000000\n",
       "Name: months_since_last_delinquent, dtype: float64"
      ]
     },
     "execution_count": 45,
     "metadata": {},
     "output_type": "execute_result"
    }
   ],
   "source": [
    "train_set['months_since_last_delinquent'].describe()"
   ]
  },
  {
   "cell_type": "code",
   "execution_count": 46,
   "metadata": {},
   "outputs": [
    {
     "data": {
      "text/plain": [
       "48506"
      ]
     },
     "execution_count": 46,
     "metadata": {},
     "output_type": "execute_result"
    }
   ],
   "source": [
    "#Lets check if there are any NA's\n",
    "train_set['months_since_last_delinquent'].isna().sum()"
   ]
  },
  {
   "cell_type": "code",
   "execution_count": 47,
   "metadata": {},
   "outputs": [],
   "source": [
    "#We have nearly 48506 NA;s. We will try to handle them at last "
   ]
  },
  {
   "cell_type": "markdown",
   "metadata": {},
   "source": [
    "#### NUMBER OF OPEN CREDIT"
   ]
  },
  {
   "cell_type": "code",
   "execution_count": 48,
   "metadata": {},
   "outputs": [
    {
     "data": {
      "text/plain": [
       "count    88910.000000\n",
       "mean        11.110348\n",
       "std          4.978461\n",
       "min          0.000000\n",
       "25%          8.000000\n",
       "50%         10.000000\n",
       "75%         14.000000\n",
       "max         76.000000\n",
       "Name: number_of_open_accounts, dtype: float64"
      ]
     },
     "execution_count": 48,
     "metadata": {},
     "output_type": "execute_result"
    }
   ],
   "source": [
    "train_set['number_of_open_accounts'].describe()"
   ]
  },
  {
   "cell_type": "code",
   "execution_count": 49,
   "metadata": {},
   "outputs": [
    {
     "data": {
      "text/plain": [
       "<AxesSubplot:xlabel='number_of_open_accounts', ylabel='Density'>"
      ]
     },
     "execution_count": 49,
     "metadata": {},
     "output_type": "execute_result"
    },
    {
     "data": {
      "image/png": "[encoded data removed]",
      "text/plain": [
       "<Figure size 432x288 with 1 Axes>"
      ]
     },
     "metadata": {
      "needs_background": "light"
     },
     "output_type": "display_data"
    }
   ],
   "source": [
    "#The max number seems odd. Lets investigate\n",
    "\n",
    "\n",
    "sns.distplot(train_set['number_of_open_accounts'])"
   ]
  },
  {
   "cell_type": "code",
   "execution_count": 50,
   "metadata": {},
   "outputs": [
    {
     "data": {
      "text/plain": [
       "0.750    14.0\n",
       "0.999    36.0\n",
       "1.000    76.0\n",
       "Name: number_of_open_accounts, dtype: float64"
      ]
     },
     "execution_count": 50,
     "metadata": {},
     "output_type": "execute_result"
    }
   ],
   "source": [
    "#Yes there are outliers in this columns. Let dig deeper\n",
    "\n",
    "\n",
    "train_set['number_of_open_accounts'].quantile([0.75,0.999,1])"
   ]
  },
  {
   "cell_type": "code",
   "execution_count": 51,
   "metadata": {},
   "outputs": [],
   "source": [
    "#Ok so replacing anything greater than 99th percentile with 99th percentile values\n",
    "\n",
    "\n",
    "train_set.loc[train_set['number_of_open_accounts'] > 36, 'number_of_open_accounts'] = 36"
   ]
  },
  {
   "cell_type": "code",
   "execution_count": 52,
   "metadata": {},
   "outputs": [
    {
     "data": {
      "text/plain": [
       "<AxesSubplot:xlabel='number_of_open_accounts', ylabel='Density'>"
      ]
     },
     "execution_count": 52,
     "metadata": {},
     "output_type": "execute_result"
    },
    {
     "data": {
      "image/png": "[encoded data removed]",
      "text/plain": [
       "<Figure size 432x288 with 1 Axes>"
      ]
     },
     "metadata": {
      "needs_background": "light"
     },
     "output_type": "display_data"
    }
   ],
   "source": [
    "sns.distplot(train_set['number_of_open_accounts'])\n",
    "#Looks good now"
   ]
  },
  {
   "cell_type": "markdown",
   "metadata": {},
   "source": [
    "#### NUMBER OF CREDIT PROBLEMS"
   ]
  },
  {
   "cell_type": "code",
   "execution_count": 53,
   "metadata": {},
   "outputs": [
    {
     "data": {
      "text/plain": [
       "count    88910.000000\n",
       "mean         0.160477\n",
       "std          0.473746\n",
       "min          0.000000\n",
       "25%          0.000000\n",
       "50%          0.000000\n",
       "75%          0.000000\n",
       "max         15.000000\n",
       "Name: number_of_credit_problems, dtype: float64"
      ]
     },
     "execution_count": 53,
     "metadata": {},
     "output_type": "execute_result"
    }
   ],
   "source": [
    "train_set['number_of_credit_problems'].describe()"
   ]
  },
  {
   "cell_type": "code",
   "execution_count": 54,
   "metadata": {},
   "outputs": [
    {
     "data": {
      "text/plain": [
       "<AxesSubplot:xlabel='number_of_credit_problems', ylabel='Density'>"
      ]
     },
     "execution_count": 54,
     "metadata": {},
     "output_type": "execute_result"
    },
    {
     "data": {
      "image/png": "[encoded data removed]",
      "text/plain": [
       "<Figure size 432x288 with 1 Axes>"
      ]
     },
     "metadata": {
      "needs_background": "light"
     },
     "output_type": "display_data"
    }
   ],
   "source": [
    "#Max looks a bit higher. Lets see\n",
    "\n",
    "sns.distplot(train_set['number_of_credit_problems'])"
   ]
  },
  {
   "cell_type": "code",
   "execution_count": 55,
   "metadata": {},
   "outputs": [
    {
     "data": {
      "text/plain": [
       "0     77057\n",
       "1     10271\n",
       "2      1092\n",
       "3       311\n",
       "4       101\n",
       "5        46\n",
       "6        14\n",
       "7         6\n",
       "9         4\n",
       "10        3\n",
       "8         2\n",
       "11        1\n",
       "12        1\n",
       "15        1\n",
       "Name: number_of_credit_problems, dtype: int64"
      ]
     },
     "execution_count": 55,
     "metadata": {},
     "output_type": "execute_result"
    }
   ],
   "source": [
    "#Okay lets look at value _counts\n",
    "\n",
    "train_set['number_of_credit_problems'].value_counts()"
   ]
  },
  {
   "cell_type": "code",
   "execution_count": 56,
   "metadata": {},
   "outputs": [],
   "source": [
    "#Okay looks good"
   ]
  },
  {
   "cell_type": "markdown",
   "metadata": {},
   "source": [
    "#### CURRENT CREDIT BALANCE"
   ]
  },
  {
   "cell_type": "code",
   "execution_count": 57,
   "metadata": {
    "scrolled": true
   },
   "outputs": [
    {
     "data": {
      "text/plain": [
       "count    8.891000e+04\n",
       "mean     1.543593e+04\n",
       "std      1.965873e+04\n",
       "min      0.000000e+00\n",
       "25%      5.949000e+03\n",
       "50%      1.103900e+04\n",
       "75%      1.930100e+04\n",
       "max      1.730472e+06\n",
       "Name: current_credit_balance, dtype: float64"
      ]
     },
     "execution_count": 57,
     "metadata": {},
     "output_type": "execute_result"
    }
   ],
   "source": [
    "train_set['current_credit_balance'].describe()"
   ]
  },
  {
   "cell_type": "code",
   "execution_count": 58,
   "metadata": {},
   "outputs": [
    {
     "data": {
      "text/plain": [
       "<AxesSubplot:xlabel='current_credit_balance', ylabel='Density'>"
      ]
     },
     "execution_count": 58,
     "metadata": {},
     "output_type": "execute_result"
    },
    {
     "data": {
      "image/png": "[encoded data removed]",
      "text/plain": [
       "<Figure size 432x288 with 1 Axes>"
      ]
     },
     "metadata": {
      "needs_background": "light"
     },
     "output_type": "display_data"
    }
   ],
   "source": [
    "sns.distplot(train_set['current_credit_balance'])"
   ]
  },
  {
   "cell_type": "code",
   "execution_count": 59,
   "metadata": {},
   "outputs": [
    {
     "data": {
      "text/plain": [
       "0.750      19301.000\n",
       "0.950      39933.300\n",
       "0.999     227670.033\n",
       "1.000    1730472.000\n",
       "Name: current_credit_balance, dtype: float64"
      ]
     },
     "execution_count": 59,
     "metadata": {},
     "output_type": "execute_result"
    }
   ],
   "source": [
    "##### It seems there are outliers in this data, Let's investigate\n",
    "\n",
    "train_set['current_credit_balance'].quantile([0.75,0.95,0.999,1]) \n"
   ]
  },
  {
   "cell_type": "code",
   "execution_count": 60,
   "metadata": {
    "scrolled": true
   },
   "outputs": [
    {
     "data": {
      "text/plain": [
       "0.95      39933.30\n",
       "0.96      43501.20\n",
       "0.97      48507.73\n",
       "0.98      57938.12\n",
       "0.99      81007.19\n",
       "1.00    1730472.00\n",
       "Name: current_credit_balance, dtype: float64"
      ]
     },
     "execution_count": 60,
     "metadata": {},
     "output_type": "execute_result"
    }
   ],
   "source": [
    "#lets dig deeper\n",
    "#So lets replace it with 95th percentile\n",
    "train_set['current_credit_balance'].quantile([0.95,0.96,0.97,0.98,0.99,1])"
   ]
  },
  {
   "cell_type": "code",
   "execution_count": 61,
   "metadata": {},
   "outputs": [],
   "source": [
    "train_set.loc[train_set['current_credit_balance'] > 81007, 'Current Credit Balance'] = 81007"
   ]
  },
  {
   "cell_type": "code",
   "execution_count": 62,
   "metadata": {},
   "outputs": [
    {
     "data": {
      "text/plain": [
       "<AxesSubplot:xlabel='current_credit_balance', ylabel='Density'>"
      ]
     },
     "execution_count": 62,
     "metadata": {},
     "output_type": "execute_result"
    },
    {
     "data": {
      "image/png": "[encoded data removed]",
      "text/plain": [
       "<Figure size 432x288 with 1 Axes>"
      ]
     },
     "metadata": {
      "needs_background": "light"
     },
     "output_type": "display_data"
    }
   ],
   "source": [
    "sns.distplot(train_set['current_credit_balance'])\n",
    "#The plot doesnt look good. We need to transform it"
   ]
  },
  {
   "cell_type": "code",
   "execution_count": 63,
   "metadata": {},
   "outputs": [
    {
     "data": {
      "text/plain": [
       "<AxesSubplot:xlabel='current_credit_balance', ylabel='Density'>"
      ]
     },
     "execution_count": 63,
     "metadata": {},
     "output_type": "execute_result"
    },
    {
     "data": {
      "image/png": "[encoded data removed]",
      "text/plain": [
       "<Figure size 432x288 with 1 Axes>"
      ]
     },
     "metadata": {
      "needs_background": "light"
     },
     "output_type": "display_data"
    }
   ],
   "source": [
    "#The plot doesnt look good. We need to transform it by using square root \n",
    "sns.distplot(train_set['current_credit_balance']**(1/2))\n"
   ]
  },
  {
   "cell_type": "markdown",
   "metadata": {},
   "source": [
    "#### MAXIMUM OPEN CREDIT "
   ]
  },
  {
   "cell_type": "code",
   "execution_count": 64,
   "metadata": {},
   "outputs": [
    {
     "data": {
      "text/plain": [
       "count     88910\n",
       "unique    46625\n",
       "top           0\n",
       "freq        610\n",
       "Name: maximum_open_credit, dtype: object"
      ]
     },
     "execution_count": 64,
     "metadata": {},
     "output_type": "execute_result"
    }
   ],
   "source": [
    "train_set['maximum_open_credit'].describe()"
   ]
  },
  {
   "cell_type": "code",
   "execution_count": 65,
   "metadata": {},
   "outputs": [
    {
     "data": {
      "text/plain": [
       "0         610\n",
       "17464      10\n",
       "11044      10\n",
       "14382      10\n",
       "10782      10\n",
       "         ... \n",
       "34875       1\n",
       "68988       1\n",
       "44124       1\n",
       "54478       1\n",
       "112068      1\n",
       "Name: maximum_open_credit, Length: 46625, dtype: int64"
      ]
     },
     "execution_count": 65,
     "metadata": {},
     "output_type": "execute_result"
    }
   ],
   "source": [
    "train_set['maximum_open_credit'].value_counts()"
   ]
  },
  {
   "cell_type": "code",
   "execution_count": 66,
   "metadata": {},
   "outputs": [],
   "source": [
    "#Lets replace #value with Nan\n",
    "train_set['maximum_open_credit']=train_set['maximum_open_credit'].replace('#VALUE!', np.nan, regex=True)"
   ]
  },
  {
   "cell_type": "code",
   "execution_count": 67,
   "metadata": {},
   "outputs": [],
   "source": [
    "train_set['maximum_open_credit']=pd.to_numeric(train_set['maximum_open_credit'])"
   ]
  },
  {
   "cell_type": "code",
   "execution_count": 68,
   "metadata": {},
   "outputs": [
    {
     "data": {
      "text/plain": [
       "2"
      ]
     },
     "execution_count": 68,
     "metadata": {},
     "output_type": "execute_result"
    }
   ],
   "source": [
    "train_set['maximum_open_credit'].isnull().sum()"
   ]
  },
  {
   "cell_type": "code",
   "execution_count": 69,
   "metadata": {},
   "outputs": [],
   "source": [
    "#Now we have only 2 Nan;s in the data. Lets replace them with mean  \n",
    "train_set['maximum_open_credit']=train_set['maximum_open_credit'].fillna(35965)"
   ]
  },
  {
   "cell_type": "code",
   "execution_count": 70,
   "metadata": {},
   "outputs": [
    {
     "data": {
      "text/plain": [
       "0.55       24037.95\n",
       "0.76       37259.84\n",
       "0.87       50736.66\n",
       "0.98      114682.56\n",
       "0.99      171423.91\n",
       "1.00    69988086.00\n",
       "Name: maximum_open_credit, dtype: float64"
      ]
     },
     "execution_count": 70,
     "metadata": {},
     "output_type": "execute_result"
    }
   ],
   "source": [
    "train_set['maximum_open_credit'].quantile([0.55,0.76,0.87,0.98,0.99,1])"
   ]
  },
  {
   "cell_type": "code",
   "execution_count": 71,
   "metadata": {},
   "outputs": [],
   "source": [
    "#Lets replace the outliers\n",
    "\n",
    "\n",
    "train_set.loc[train_set['maximum_open_credit'] > 171423, 'maximum_open_credit'] = 171423"
   ]
  },
  {
   "cell_type": "code",
   "execution_count": 72,
   "metadata": {},
   "outputs": [
    {
     "data": {
      "text/plain": [
       "<AxesSubplot:xlabel='maximum_open_credit', ylabel='Density'>"
      ]
     },
     "execution_count": 72,
     "metadata": {},
     "output_type": "execute_result"
    },
    {
     "data": {
      "image/png": "[encoded data removed]",
      "text/plain": [
       "<Figure size 432x288 with 1 Axes>"
      ]
     },
     "metadata": {
      "needs_background": "light"
     },
     "output_type": "display_data"
    }
   ],
   "source": [
    "sns.distplot(train_set['maximum_open_credit'])"
   ]
  },
  {
   "cell_type": "code",
   "execution_count": 73,
   "metadata": {},
   "outputs": [],
   "source": [
    "#Looks much better now"
   ]
  },
  {
   "cell_type": "markdown",
   "metadata": {},
   "source": [
    "#### BANKRUPTCIES "
   ]
  },
  {
   "cell_type": "code",
   "execution_count": 74,
   "metadata": {},
   "outputs": [
    {
     "data": {
      "text/plain": [
       "count    88718.000000\n",
       "mean         0.112672\n",
       "std          0.343300\n",
       "min          0.000000\n",
       "25%          0.000000\n",
       "50%          0.000000\n",
       "75%          0.000000\n",
       "max          7.000000\n",
       "Name: bankruptcies, dtype: float64"
      ]
     },
     "execution_count": 74,
     "metadata": {},
     "output_type": "execute_result"
    }
   ],
   "source": [
    "train_set['bankruptcies'].describe()"
   ]
  },
  {
   "cell_type": "code",
   "execution_count": 75,
   "metadata": {},
   "outputs": [
    {
     "data": {
      "text/plain": [
       "0.0    79323\n",
       "1.0     8936\n",
       "2.0      353\n",
       "3.0       80\n",
       "4.0       19\n",
       "5.0        5\n",
       "7.0        1\n",
       "6.0        1\n",
       "Name: bankruptcies, dtype: int64"
      ]
     },
     "execution_count": 75,
     "metadata": {},
     "output_type": "execute_result"
    }
   ],
   "source": [
    "train_set['bankruptcies'].value_counts()"
   ]
  },
  {
   "cell_type": "code",
   "execution_count": 76,
   "metadata": {},
   "outputs": [
    {
     "data": {
      "text/plain": [
       "array([ 0.,  1., nan,  2.,  4.,  3.,  5.,  7.,  6.])"
      ]
     },
     "execution_count": 76,
     "metadata": {},
     "output_type": "execute_result"
    }
   ],
   "source": [
    "train_set['bankruptcies'].unique()"
   ]
  },
  {
   "cell_type": "code",
   "execution_count": 77,
   "metadata": {},
   "outputs": [],
   "source": [
    "#So we have Nan's. Lets fill them with median\n",
    "\n",
    "train_set['bankruptcies']=train_set['bankruptcies'].fillna(3)"
   ]
  },
  {
   "cell_type": "markdown",
   "metadata": {},
   "source": [
    "#### TAX LIENS"
   ]
  },
  {
   "cell_type": "code",
   "execution_count": 78,
   "metadata": {},
   "outputs": [
    {
     "data": {
      "text/plain": [
       "count    88902.000000\n",
       "mean         0.028222\n",
       "std          0.257533\n",
       "min          0.000000\n",
       "25%          0.000000\n",
       "50%          0.000000\n",
       "75%          0.000000\n",
       "max         15.000000\n",
       "Name: tax_liens, dtype: float64"
      ]
     },
     "execution_count": 78,
     "metadata": {},
     "output_type": "execute_result"
    }
   ],
   "source": [
    "train_set['tax_liens'].describe()"
   ]
  },
  {
   "cell_type": "code",
   "execution_count": 79,
   "metadata": {},
   "outputs": [
    {
     "data": {
      "text/plain": [
       "0.0     87274\n",
       "1.0      1132\n",
       "2.0       305\n",
       "3.0        99\n",
       "4.0        52\n",
       "5.0        17\n",
       "6.0         9\n",
       "7.0         5\n",
       "9.0         4\n",
       "8.0         2\n",
       "15.0        1\n",
       "11.0        1\n",
       "10.0        1\n",
       "Name: tax_liens, dtype: int64"
      ]
     },
     "execution_count": 79,
     "metadata": {},
     "output_type": "execute_result"
    }
   ],
   "source": [
    "train_set['tax_liens'].value_counts()"
   ]
  },
  {
   "cell_type": "code",
   "execution_count": 80,
   "metadata": {},
   "outputs": [
    {
     "data": {
      "text/plain": [
       "array([0., 1., 3., 2., 4., 5., 7., 6.])"
      ]
     },
     "execution_count": 80,
     "metadata": {},
     "output_type": "execute_result"
    }
   ],
   "source": [
    "train_set['bankruptcies'].unique()"
   ]
  },
  {
   "cell_type": "markdown",
   "metadata": {},
   "source": [
    "### 2.DATA PREPARATION FOR  MODEL  BUILDING"
   ]
  },
  {
   "cell_type": "markdown",
   "metadata": {},
   "source": [
    "#### CATEGORICAL VARIABLES  (\"TERM\", \"YEARS IN CURRENT JOB\", \"HOME OWNERSHIP\", \"PURPOSE\""
   ]
  },
  {
   "cell_type": "code",
   "execution_count": 81,
   "metadata": {},
   "outputs": [],
   "source": [
    "#We use a pandas embedded function to convert all categorical variable to ordinal \n",
    "cat_cols = ['term','years_in_current_job','home_ownership','purpose']\n",
    "\n",
    "for c in cat_cols:\n",
    "    train_set[c] = pd.factorize(train_set[c])[0]"
   ]
  },
  {
   "cell_type": "markdown",
   "metadata": {},
   "source": [
    "#### REPLACING ALL MISSING VALUES and GETTING DUMMY VARIABLES"
   ]
  },
  {
   "cell_type": "code",
   "execution_count": 82,
   "metadata": {},
   "outputs": [],
   "source": [
    "#Imputing missing data with simpleimputer\n",
    "updated_train_set=pd.DataFrame(data=SimpleImputer().\n",
    "                          fit_transform(train_set[train_set.columns[3:19]],)\n",
    "                          , columns=train_set[train_set.columns[3:19]].\n",
    "                          columns, index=train_set.index)"
   ]
  },
  {
   "cell_type": "code",
   "execution_count": 83,
   "metadata": {},
   "outputs": [],
   "source": [
    "#Getting the dataset ready pd.get dummies function for dropping the dummy variables\n",
    "train_set_LC = pd.get_dummies(updated_train_set, drop_first=True)"
   ]
  },
  {
   "cell_type": "markdown",
   "metadata": {},
   "source": [
    "#### SETTING THE TARGET VARIABLE "
   ]
  },
  {
   "cell_type": "code",
   "execution_count": 84,
   "metadata": {},
   "outputs": [],
   "source": [
    "#Binarizing the Target variable. This is to create an array for 1 for loan \"Given\" and 0 loan \"Refused\"\n",
    "lb_style = LabelBinarizer()\n",
    "lb_results = lb_style.fit_transform(train_set['loan_status'])\n",
    "y=lb_results\n",
    "y=y.ravel()"
   ]
  },
  {
   "cell_type": "code",
   "execution_count": 85,
   "metadata": {},
   "outputs": [
    {
     "data": {
      "text/plain": [
       "array([[1],\n",
       "       [1],\n",
       "       [1],\n",
       "       ...,\n",
       "       [0],\n",
       "       [1],\n",
       "       [0]])"
      ]
     },
     "execution_count": 85,
     "metadata": {},
     "output_type": "execute_result"
    }
   ],
   "source": [
    "lb_results"
   ]
  },
  {
   "cell_type": "code",
   "execution_count": 86,
   "metadata": {
    "scrolled": true
   },
   "outputs": [
    {
     "data": {
      "text/plain": [
       "(88910, 1)"
      ]
     },
     "execution_count": 86,
     "metadata": {},
     "output_type": "execute_result"
    }
   ],
   "source": [
    "lb_results.shape"
   ]
  },
  {
   "cell_type": "markdown",
   "metadata": {},
   "source": [
    "#### SCALING THE INDEPENDENT VARIABLES "
   ]
  },
  {
   "cell_type": "code",
   "execution_count": 87,
   "metadata": {},
   "outputs": [
    {
     "name": "stdout",
     "output_type": "stream",
     "text": [
      "[[-0.1869176  -0.57302977  0.06886311 ... -0.79845518 -0.32295035\n",
      "  -0.10959195]\n",
      " [ 1.48349848  1.74511004  0.26644983 ...  1.83825771 -0.32295035\n",
      "  -0.10959195]\n",
      " [ 0.32079375 -0.57302977 -0.08920626 ... -0.53977375  2.39304617\n",
      "  -0.10959195]\n",
      " ...\n",
      " [ 1.40247376 -0.57302977  0.78017528 ...  0.91232955 -0.32295035\n",
      "  -0.10959195]\n",
      " [-1.1281112  -0.57302977 -0.16824094 ... -0.4039368  -0.32295035\n",
      "  -0.10959195]\n",
      " [ 0.62515919 -0.57302977 -0.32631031 ... -0.30218149 -0.32295035\n",
      "   3.7736061 ]]\n",
      "   \n",
      "(88910, 16)\n"
     ]
    }
   ],
   "source": [
    "#Scaling the independent variables\n",
    "X_scaled = preprocessing.scale(train_set_LC)\n",
    "print(X_scaled)\n",
    "print('   ')\n",
    "print(X_scaled.shape)"
   ]
  },
  {
   "cell_type": "markdown",
   "metadata": {},
   "source": [
    "#### SPLITTING THE DATA INTO TEST AND TRAIN "
   ]
  },
  {
   "cell_type": "code",
   "execution_count": 88,
   "metadata": {},
   "outputs": [],
   "source": [
    "X_train, X_test, y_train, y_test = train_test_split(X_scaled, y, test_size=0.25, random_state=22)"
   ]
  },
  {
   "cell_type": "markdown",
   "metadata": {},
   "source": [
    "#### CHECKING IF THE  DATA IS BALANCED "
   ]
  },
  {
   "cell_type": "code",
   "execution_count": 89,
   "metadata": {},
   "outputs": [
    {
     "data": {
      "image/png": "[encoded data removed]",
      "text/plain": [
       "<Figure size 432x288 with 1 Axes>"
      ]
     },
     "metadata": {
      "needs_background": "light"
     },
     "output_type": "display_data"
    }
   ],
   "source": [
    "sns.countplot(y_train)\n",
    "plt.title('Count plot before oversampling')\n",
    "plt.show()"
   ]
  },
  {
   "cell_type": "markdown",
   "metadata": {},
   "source": [
    "#### BALANCING THE DATA"
   ]
  },
  {
   "cell_type": "code",
   "execution_count": 90,
   "metadata": {
    "scrolled": true
   },
   "outputs": [
    {
     "data": {
      "image/png": "[encoded data removed]",
      "text/plain": [
       "<Figure size 432x288 with 1 Axes>"
      ]
     },
     "metadata": {
      "needs_background": "light"
     },
     "output_type": "display_data"
    }
   ],
   "source": [
    "index_split = int(len(X_scaled)/2)\n",
    "X_train, y_train = SMOTE().fit_resample(X_scaled[0:index_split, :], y[0:index_split])\n",
    "X_test, y_test = X_scaled[index_split:], y[index_split:]\n",
    "sns.countplot(y_train)\n",
    "plt.title('Count plot after oversampling')\n",
    "plt.show()"
   ]
  },
  {
   "cell_type": "markdown",
   "metadata": {},
   "source": [
    "## BUILDING AND SELECTING THE BEST MODEL"
   ]
  },
  {
   "cell_type": "code",
   "execution_count": 91,
   "metadata": {},
   "outputs": [],
   "source": [
    "def classify(est, x, y,X_test,y_test):\n",
    "    #Passing the model and train test dataset to fit the model\n",
    "    est.fit(x, y)\n",
    "    \n",
    "    #Predicting the probabilities of the Test data\n",
    "    \n",
    "    y2 = est.predict_proba(X_test)\n",
    "    y1 = est.predict(X_test)\n",
    "\n",
    "    print(\"Accuracy: \", metrics.accuracy_score(y_test, y1))\n",
    "    print(\"Area under the ROC curve: \", metrics.roc_auc_score(y_test, y2[:, 1]))\n",
    "    \n",
    "    #Calculate different metrics\n",
    "    \n",
    "    print(\"F-metric: \", metrics.f1_score(y_test, y1))\n",
    "    print(\" \")\n",
    "    print(\"Classification report:\")\n",
    "    print(metrics.classification_report(y_test, y1))\n",
    "    print(\" \")\n",
    "    print(\"Evaluation by cross-validation:\")\n",
    "    print(cross_val_score(est, x, y))\n",
    "    \n",
    "    return est, y1, y2[:, 1]"
   ]
  },
  {
   "cell_type": "code",
   "execution_count": 92,
   "metadata": {},
   "outputs": [],
   "source": [
    "#Model to  predict the ROC curve for various models and finding the best one\n",
    "def run_models(X_train, y_train, X_test, y_test, model_type = 'balanced'):\n",
    "    \n",
    "    clfs = {'GradientBoosting': GradientBoostingClassifier(max_depth= 6, n_estimators=100, max_features = 0.3),\n",
    "            'LogisticRegression' : LogisticRegression(),\n",
    "            #'GaussianNB': GaussianNB(),\n",
    "            'RandomForestClassifier': RandomForestClassifier(n_estimators=10),\n",
    "            'XGBClassifier': XGBClassifier()\n",
    "            }\n",
    "    cols = ['model','matthews_corrcoef', 'roc_auc_score', 'precision_score', 'recall_score','f1_score']\n",
    "\n",
    "    models_report = pd.DataFrame(columns = cols)\n",
    "    conf_matrix = dict()\n",
    "\n",
    "    for clf, clf_name in zip(clfs.values(), clfs.keys()):\n",
    "\n",
    "        clf.fit(X_train, y_train)\n",
    "\n",
    "        y_pred = clf.predict(X_test)\n",
    "        y_score = clf.predict_proba(X_test)[:,1]\n",
    "\n",
    "        print('computing {} - {} '.format(clf_name, model_type))\n",
    "\n",
    "        tmp = pd.Series({'model_type': model_type,\n",
    "                         'model': clf_name,\n",
    "                         'roc_auc_score' : metrics.roc_auc_score(y_test, y_score),\n",
    "                         'matthews_corrcoef': metrics.matthews_corrcoef(y_test, y_pred),\n",
    "                         'precision_score': metrics.precision_score(y_test, y_pred),\n",
    "                         'recall_score': metrics.recall_score(y_test, y_pred),\n",
    "                         'f1_score': metrics.f1_score(y_test, y_pred)})\n",
    "\n",
    "        models_report = models_report.append(tmp, ignore_index = True)\n",
    "        conf_matrix[clf_name] = pd.crosstab(y_test, y_pred, rownames=['True'], colnames= ['Predicted'], margins=False)\n",
    "        fpr, tpr, thresholds = metrics.roc_curve(y_test, y_score, drop_intermediate = False, pos_label = 1)\n",
    "\n",
    "        plt.figure(1, figsize=(10,8))\n",
    "        plt.xlabel('false positive rate')\n",
    "        plt.ylabel('true positive rate')\n",
    "        plt.title('ROC curve - {}'.format(model_type))\n",
    "        plt.plot(fpr, tpr, label = clf_name )\n",
    "        plt.legend(loc=2, prop={'size':11})\n",
    "    plt.plot([0,1],[0,1], color = 'black')\n",
    "    \n",
    "    return models_report, conf_matrix\n"
   ]
  },
  {
   "cell_type": "markdown",
   "metadata": {},
   "source": [
    "#### ROC CURVE"
   ]
  },
  {
   "cell_type": "code",
   "execution_count": 93,
   "metadata": {},
   "outputs": [
    {
     "name": "stdout",
     "output_type": "stream",
     "text": [
      "computing GradientBoosting - Balanced \n",
      "computing LogisticRegression - Balanced \n",
      "computing RandomForestClassifier - Balanced \n",
      "[03:07:33] WARNING: C:/Users/Administrator/workspace/xgboost-win64_release_1.4.0/src/learner.cc:1095: Starting in XGBoost 1.3.0, the default evaluation metric used with the objective 'binary:logistic' was changed from 'error' to 'logloss'. Explicitly set eval_metric if you'd like to restore the old behavior.\n",
      "computing XGBClassifier - Balanced \n"
     ]
    },
    {
     "data": {
      "image/png": "[encoded data removed]",
      "text/plain": [
       "<Figure size 720x576 with 1 Axes>"
      ]
     },
     "metadata": {
      "needs_background": "light"
     },
     "output_type": "display_data"
    }
   ],
   "source": [
    "models_report_bal, conf_matrix_bal = run_models(X_train, y_train, X_test, y_test, model_type = 'Balanced')"
   ]
  },
  {
   "cell_type": "markdown",
   "metadata": {},
   "source": [
    "#### MODELS REPORT"
   ]
  },
  {
   "cell_type": "code",
   "execution_count": 94,
   "metadata": {
    "scrolled": false
   },
   "outputs": [
    {
     "data": {
      "text/html": [
       "<div>\n",
       "<style scoped>\n",
       "    .dataframe tbody tr th:only-of-type {\n",
       "        vertical-align: middle;\n",
       "    }\n",
       "\n",
       "    .dataframe tbody tr th {\n",
       "        vertical-align: top;\n",
       "    }\n",
       "\n",
       "    .dataframe thead th {\n",
       "        text-align: right;\n",
       "    }\n",
       "</style>\n",
       "<table border=\"1\" class=\"dataframe\">\n",
       "  <thead>\n",
       "    <tr style=\"text-align: right;\">\n",
       "      <th></th>\n",
       "      <th>model</th>\n",
       "      <th>matthews_corrcoef</th>\n",
       "      <th>roc_auc_score</th>\n",
       "      <th>precision_score</th>\n",
       "      <th>recall_score</th>\n",
       "      <th>f1_score</th>\n",
       "      <th>model_type</th>\n",
       "    </tr>\n",
       "  </thead>\n",
       "  <tbody>\n",
       "    <tr>\n",
       "      <th>0</th>\n",
       "      <td>GradientBoosting</td>\n",
       "      <td>0.179101</td>\n",
       "      <td>0.675308</td>\n",
       "      <td>0.321674</td>\n",
       "      <td>0.920749</td>\n",
       "      <td>0.476780</td>\n",
       "      <td>Balanced</td>\n",
       "    </tr>\n",
       "    <tr>\n",
       "      <th>1</th>\n",
       "      <td>LogisticRegression</td>\n",
       "      <td>0.224454</td>\n",
       "      <td>0.669797</td>\n",
       "      <td>0.391865</td>\n",
       "      <td>0.638471</td>\n",
       "      <td>0.485656</td>\n",
       "      <td>Balanced</td>\n",
       "    </tr>\n",
       "    <tr>\n",
       "      <th>2</th>\n",
       "      <td>RandomForestClassifier</td>\n",
       "      <td>0.160325</td>\n",
       "      <td>0.617730</td>\n",
       "      <td>0.329517</td>\n",
       "      <td>0.818319</td>\n",
       "      <td>0.469840</td>\n",
       "      <td>Balanced</td>\n",
       "    </tr>\n",
       "    <tr>\n",
       "      <th>3</th>\n",
       "      <td>XGBClassifier</td>\n",
       "      <td>0.192391</td>\n",
       "      <td>0.668292</td>\n",
       "      <td>0.336008</td>\n",
       "      <td>0.860374</td>\n",
       "      <td>0.483279</td>\n",
       "      <td>Balanced</td>\n",
       "    </tr>\n",
       "  </tbody>\n",
       "</table>\n",
       "</div>"
      ],
      "text/plain": [
       "                    model  matthews_corrcoef  roc_auc_score  precision_score  \\\n",
       "0        GradientBoosting           0.179101       0.675308         0.321674   \n",
       "1      LogisticRegression           0.224454       0.669797         0.391865   \n",
       "2  RandomForestClassifier           0.160325       0.617730         0.329517   \n",
       "3           XGBClassifier           0.192391       0.668292         0.336008   \n",
       "\n",
       "   recall_score  f1_score model_type  \n",
       "0      0.920749  0.476780   Balanced  \n",
       "1      0.638471  0.485656   Balanced  \n",
       "2      0.818319  0.469840   Balanced  \n",
       "3      0.860374  0.483279   Balanced  "
      ]
     },
     "execution_count": 94,
     "metadata": {},
     "output_type": "execute_result"
    }
   ],
   "source": [
    "models_report_bal"
   ]
  },
  {
   "cell_type": "markdown",
   "metadata": {},
   "source": [
    "#### CONFUSION MATRICES FOR THE  MODELS "
   ]
  },
  {
   "cell_type": "code",
   "execution_count": 95,
   "metadata": {
    "scrolled": true
   },
   "outputs": [
    {
     "data": {
      "image/png": "[encoded data removed]",
      "text/plain": [
       "<Figure size 432x288 with 2 Axes>"
      ]
     },
     "metadata": {
      "needs_background": "light"
     },
     "output_type": "display_data"
    }
   ],
   "source": [
    "#GradientBoosting\n",
    " \n",
    "sns.heatmap(conf_matrix_bal['GradientBoosting'], annot=True, fmt=\".1f\")\n",
    "plt.show()"
   ]
  },
  {
   "cell_type": "code",
   "execution_count": 96,
   "metadata": {},
   "outputs": [
    {
     "data": {
      "image/png": "[encoded data removed]",
      "text/plain": [
       "<Figure size 432x288 with 2 Axes>"
      ]
     },
     "metadata": {
      "needs_background": "light"
     },
     "output_type": "display_data"
    }
   ],
   "source": [
    "#LogisticRegression\n",
    "\n",
    "sns.heatmap(conf_matrix_bal['LogisticRegression'], annot=True, fmt=\".1f\")\n",
    "plt.show()"
   ]
  },
  {
   "cell_type": "code",
   "execution_count": 97,
   "metadata": {
    "scrolled": true
   },
   "outputs": [
    {
     "data": {
      "image/png": "[encoded data removed]",
      "text/plain": [
       "<Figure size 432x288 with 2 Axes>"
      ]
     },
     "metadata": {
      "needs_background": "light"
     },
     "output_type": "display_data"
    }
   ],
   "source": [
    "#RandomForestClassifier\n",
    "\n",
    "sns.heatmap(conf_matrix_bal['RandomForestClassifier'], annot=True, fmt=\".1f\")\n",
    "plt.show()\n"
   ]
  },
  {
   "cell_type": "code",
   "execution_count": 98,
   "metadata": {
    "scrolled": true
   },
   "outputs": [
    {
     "data": {
      "image/png": "[encoded data removed]",
      "text/plain": [
       "<Figure size 432x288 with 2 Axes>"
      ]
     },
     "metadata": {
      "needs_background": "light"
     },
     "output_type": "display_data"
    }
   ],
   "source": [
    "#XGBClassifier\n",
    "sns.heatmap(conf_matrix_bal['XGBClassifier'], annot=True, fmt=\".1f\")\n",
    "plt.show()"
   ]
  },
  {
   "cell_type": "markdown",
   "metadata": {},
   "source": [
    "#### FEATURE IMPORTANCE  "
   ]
  },
  {
   "cell_type": "code",
   "execution_count": 117,
   "metadata": {},
   "outputs": [
    {
     "name": "stdout",
     "output_type": "stream",
     "text": [
      "[03:40:12] WARNING: C:/Users/Administrator/workspace/xgboost-win64_release_1.4.0/src/learner.cc:1095: Starting in XGBoost 1.3.0, the default evaluation metric used with the objective 'binary:logistic' was changed from 'error' to 'logloss'. Explicitly set eval_metric if you'd like to restore the old behavior.\n",
      "Accuracy:  0.48039590597233156\n",
      "Area under the ROC curve:  0.6682921739955481\n",
      "F-metric:  0.48327852716819897\n",
      " \n",
      "Classification report:\n",
      "              precision    recall  f1-score   support\n",
      "\n",
      "           0       0.86      0.33      0.48     31900\n",
      "           1       0.34      0.86      0.48     12555\n",
      "\n",
      "    accuracy                           0.48     44455\n",
      "   macro avg       0.60      0.60      0.48     44455\n",
      "weighted avg       0.71      0.48      0.48     44455\n",
      "\n",
      " \n",
      "Evaluation by cross-validation:\n",
      "[03:40:22] WARNING: C:/Users/Administrator/workspace/xgboost-win64_release_1.4.0/src/learner.cc:1095: Starting in XGBoost 1.3.0, the default evaluation metric used with the objective 'binary:logistic' was changed from 'error' to 'logloss'. Explicitly set eval_metric if you'd like to restore the old behavior.\n",
      "[03:40:31] WARNING: C:/Users/Administrator/workspace/xgboost-win64_release_1.4.0/src/learner.cc:1095: Starting in XGBoost 1.3.0, the default evaluation metric used with the objective 'binary:logistic' was changed from 'error' to 'logloss'. Explicitly set eval_metric if you'd like to restore the old behavior.\n",
      "[03:40:40] WARNING: C:/Users/Administrator/workspace/xgboost-win64_release_1.4.0/src/learner.cc:1095: Starting in XGBoost 1.3.0, the default evaluation metric used with the objective 'binary:logistic' was changed from 'error' to 'logloss'. Explicitly set eval_metric if you'd like to restore the old behavior.\n",
      "[03:40:47] WARNING: C:/Users/Administrator/workspace/xgboost-win64_release_1.4.0/src/learner.cc:1095: Starting in XGBoost 1.3.0, the default evaluation metric used with the objective 'binary:logistic' was changed from 'error' to 'logloss'. Explicitly set eval_metric if you'd like to restore the old behavior.\n",
      "[03:40:55] WARNING: C:/Users/Administrator/workspace/xgboost-win64_release_1.4.0/src/learner.cc:1095: Starting in XGBoost 1.3.0, the default evaluation metric used with the objective 'binary:logistic' was changed from 'error' to 'logloss'. Explicitly set eval_metric if you'd like to restore the old behavior.\n",
      "[0.68221437 0.61138594 0.85213977 0.85936396 0.66554107]\n",
      "[0.2581892  0.101031   0.15562187 0.12210539 0.05030954 0.03116811\n",
      " 0.05088406 0.01368412 0.01452521 0.01993729 0.10637905 0.01227257\n",
      " 0.01798331 0.0216173  0.01352609 0.01076588]\n"
     ]
    },
    {
     "data": {
      "image/png": "[encoded data removed]",
      "text/plain": [
       "<Figure size 432x288 with 1 Axes>"
      ]
     },
     "metadata": {
      "needs_background": "light"
     },
     "output_type": "display_data"
    }
   ],
   "source": [
    "def feat_importance(estimator):\n",
    "    feature_importance = {}\n",
    "    for index, name in enumerate(train_set_LC.columns):\n",
    "        feature_importance[name] = estimator.feature_importances_[index]\n",
    "\n",
    "    feature_importance = {k: v for k, v in feature_importance.items()}\n",
    "    sorted_x = sorted(feature_importance.items(), key=operator.itemgetter(1), reverse = True)\n",
    "    \n",
    "    return sorted_x\n",
    "\n",
    "#Finding accuracy and feature importance using GBC classifier\n",
    "xgb0, y_pred_b, y_pred2_b = classify(XGBClassifier(), X_train, y_train,X_test,y_test)\n",
    "print(xgb0.feature_importances_)\n",
    "plot_importance(xgb)\n",
    "pyplot.show()\n",
    "feat1 = feat_importance(xgb0)"
   ]
  },
  {
   "cell_type": "code",
   "execution_count": 120,
   "metadata": {
    "scrolled": false
   },
   "outputs": [
    {
     "data": {
      "text/plain": [
       "[('current_loan_amount', 0.2581892),\n",
       " ('credit_score', 0.15562187),\n",
       " ('years_in_current_job', 0.12210539),\n",
       " ('number_of_open_accounts', 0.10637905),\n",
       " ('term', 0.101031),\n",
       " ('purpose', 0.050884064),\n",
       " ('home_ownership', 0.050309535),\n",
       " ('annual_income', 0.031168107),\n",
       " ('maximum_open_credit', 0.021617303),\n",
       " ('months_since_last_delinquent', 0.019937288),\n",
       " ('current_credit_balance', 0.017983306),\n",
       " ('years_of_credit_history', 0.014525209),\n",
       " ('monthly_debt', 0.013684125),\n",
       " ('bankruptcies', 0.013526086),\n",
       " ('number_of_credit_problems', 0.012272572),\n",
       " ('tax_liens', 0.0107658785)]"
      ]
     },
     "execution_count": 120,
     "metadata": {},
     "output_type": "execute_result"
    }
   ],
   "source": [
    "# The Importance of each feature \n",
    "feat1\n"
   ]
  },
  {
   "cell_type": "code",
   "execution_count": 122,
   "metadata": {
    "scrolled": false
   },
   "outputs": [
    {
     "name": "stdout",
     "output_type": "stream",
     "text": [
      "                         Feature  Percentage\n",
      "0            current_loan_amount    0.258189\n",
      "1                   credit_score    0.155622\n",
      "2           years_in_current_job    0.122105\n",
      "3        number_of_open_accounts    0.106379\n",
      "4                           term    0.101031\n",
      "5                        purpose    0.050884\n",
      "6                 home_ownership    0.050310\n",
      "7                  annual_income    0.031168\n",
      "8            maximum_open_credit    0.021617\n",
      "9   months_since_last_delinquent    0.019937\n",
      "10        current_credit_balance    0.017983\n",
      "11       years_of_credit_history    0.014525\n",
      "12                  monthly_debt    0.013684\n",
      "13                  bankruptcies    0.013526\n",
      "14     number_of_credit_problems    0.012273\n",
      "15                     tax_liens    0.010766\n"
     ]
    }
   ],
   "source": [
    "from pandas import DataFrame\n",
    "df = DataFrame(feat1,columns=['Feature','Percentage'])\n",
    "print (df)"
   ]
  },
  {
   "cell_type": "markdown",
   "metadata": {},
   "source": [
    "#### Visualizing feature importance\n"
   ]
  },
  {
   "cell_type": "code",
   "execution_count": 128,
   "metadata": {},
   "outputs": [
    {
     "data": {
      "image/png": "[encoded data removed]",
      "text/plain": [
       "<Figure size 1008x504 with 1 Axes>"
      ]
     },
     "metadata": {
      "needs_background": "light"
     },
     "output_type": "display_data"
    }
   ],
   "source": [
    "Df1=df.sort_values(by='Percentage',ascending=True,ignore_index=True)\n",
    "plt.figure(figsize = (14,7))\n",
    "plt.barh(df['Feature'],df['Percentage'],align='center')\n",
    "plt.title('Feature Importance')\n",
    "plt.xlabel('Importance')\n",
    "plt.ylabel('Features')\n",
    "plt.show()"
   ]
  },
  {
   "cell_type": "markdown",
   "metadata": {},
   "source": [
    "The first five features that the model placed more importance include:\n",
    "1. Current Loan Amount\n",
    "2. Credit Score\n",
    "3. Years in Current Job\n",
    "4. Number of Open Accounts \n",
    "5. Term "
   ]
  },
  {
   "cell_type": "markdown",
   "metadata": {},
   "source": [
    "# BEST MODEL SELECTION"
   ]
  },
  {
   "cell_type": "markdown",
   "metadata": {},
   "source": [
    "We chose Gradient Boosting Classifier based on  roc auc_score for deployment. This model should help TBB  in speedily determing which customer should or should not be granted a loan in a very quick and reliable way.\n"
   ]
  },
  {
   "cell_type": "code",
   "execution_count": null,
   "metadata": {},
   "outputs": [],
   "source": []
  }
 ],
 "metadata": {
  "kernelspec": {
   "display_name": "Python 3",
   "language": "python",
   "name": "python3"
  },
  "language_info": {
   "codemirror_mode": {
    "name": "ipython",
    "version": 3
   },
   "file_extension": ".py",
   "mimetype": "text/x-python",
   "name": "python",
   "nbconvert_exporter": "python",
   "pygments_lexer": "ipython3",
   "version": "3.7.5"
  }
 },
 "nbformat": 4,
 "nbformat_minor": 5
}
